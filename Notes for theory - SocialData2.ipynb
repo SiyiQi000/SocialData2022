{
 "cells": [
  {
   "cell_type": "markdown",
   "id": "73d5686e",
   "metadata": {},
   "source": [
    "## The Web Scraping Recipe\n",
    "\n",
    "To scrape information from the web is:\n",
    "1. **MAPPING**: Finding URLs of the pages containing the information you want.\n",
    "2. **DOWNLOAD**: Fetching the pages via HTTP.\n",
    "3. **PARSE**: Extracting the information from HTML.  \n",
    "  \n",
    "  \n",
    "You could also add `connection`, `storing`, `logging`, etc.\n",
    "   \n",
    "\n",
    "\n",
    "### Packages used\n",
    "Today we will mainly build on the python skills you have gotten so far, and tomorrow we will look into more specialized packages.\n",
    "\n",
    "* for connecting to the internet we use: **requests**\n",
    "* for parsing: **beautifulsoup** and **regex**\n",
    "* for automatic browsing / screen scraping: **selenium** \n",
    "* for mitigating errors we use: **time**\n",
    "\n",
    "We will write our scrapers with basic python, for larger projects consider looking into the packages **scrapy**"
   ]
  },
  {
   "cell_type": "code",
   "execution_count": 23,
   "id": "0f67828f",
   "metadata": {},
   "outputs": [],
   "source": [
    "import pandas as pd\n",
    "import numpy as np\n",
    "import seaborn as sns\n",
    "import yfinance as yf\n",
    "import os"
   ]
  },
  {
   "cell_type": "code",
   "execution_count": 24,
   "id": "dab619d6",
   "metadata": {},
   "outputs": [],
   "source": [
    "import requests\n",
    "from bs4 import BeautifulSoup\n",
    "import re\n",
    "import selenium\n",
    "import time\n",
    "import pandas as pd"
   ]
  },
  {
   "cell_type": "code",
   "execution_count": 29,
   "id": "a7b370a6",
   "metadata": {},
   "outputs": [],
   "source": [
    "import requests\n",
    "response = requests.get('https://isdsucph.github.io/isds2021/')"
   ]
  },
  {
   "cell_type": "code",
   "execution_count": 32,
   "id": "54168533",
   "metadata": {},
   "outputs": [
    {
     "data": {
      "text/html": [
       "<div>\n",
       "<style scoped>\n",
       "    .dataframe tbody tr th:only-of-type {\n",
       "        vertical-align: middle;\n",
       "    }\n",
       "\n",
       "    .dataframe tbody tr th {\n",
       "        vertical-align: top;\n",
       "    }\n",
       "\n",
       "    .dataframe thead th {\n",
       "        text-align: right;\n",
       "    }\n",
       "</style>\n",
       "<table border=\"1\" class=\"dataframe\">\n",
       "  <thead>\n",
       "    <tr style=\"text-align: right;\">\n",
       "      <th></th>\n",
       "      <th>Western Conference</th>\n",
       "      <th>W</th>\n",
       "      <th>L</th>\n",
       "      <th>W/L%</th>\n",
       "      <th>GB</th>\n",
       "      <th>PS/G</th>\n",
       "      <th>PA/G</th>\n",
       "      <th>SRS</th>\n",
       "    </tr>\n",
       "  </thead>\n",
       "  <tbody>\n",
       "    <tr>\n",
       "      <th>0</th>\n",
       "      <td>Houston Rockets*</td>\n",
       "      <td>65</td>\n",
       "      <td>17</td>\n",
       "      <td>0.793</td>\n",
       "      <td>—</td>\n",
       "      <td>112.4</td>\n",
       "      <td>103.9</td>\n",
       "      <td>8.21</td>\n",
       "    </tr>\n",
       "    <tr>\n",
       "      <th>1</th>\n",
       "      <td>Golden State Warriors*</td>\n",
       "      <td>58</td>\n",
       "      <td>24</td>\n",
       "      <td>0.707</td>\n",
       "      <td>7.0</td>\n",
       "      <td>113.5</td>\n",
       "      <td>107.5</td>\n",
       "      <td>5.79</td>\n",
       "    </tr>\n",
       "    <tr>\n",
       "      <th>2</th>\n",
       "      <td>Portland Trail Blazers*</td>\n",
       "      <td>49</td>\n",
       "      <td>33</td>\n",
       "      <td>0.598</td>\n",
       "      <td>16.0</td>\n",
       "      <td>105.6</td>\n",
       "      <td>103.0</td>\n",
       "      <td>2.60</td>\n",
       "    </tr>\n",
       "    <tr>\n",
       "      <th>3</th>\n",
       "      <td>Oklahoma City Thunder*</td>\n",
       "      <td>48</td>\n",
       "      <td>34</td>\n",
       "      <td>0.585</td>\n",
       "      <td>17.0</td>\n",
       "      <td>107.9</td>\n",
       "      <td>104.4</td>\n",
       "      <td>3.42</td>\n",
       "    </tr>\n",
       "    <tr>\n",
       "      <th>4</th>\n",
       "      <td>Utah Jazz*</td>\n",
       "      <td>48</td>\n",
       "      <td>34</td>\n",
       "      <td>0.585</td>\n",
       "      <td>17.0</td>\n",
       "      <td>104.1</td>\n",
       "      <td>99.8</td>\n",
       "      <td>4.47</td>\n",
       "    </tr>\n",
       "    <tr>\n",
       "      <th>5</th>\n",
       "      <td>New Orleans Pelicans*</td>\n",
       "      <td>48</td>\n",
       "      <td>34</td>\n",
       "      <td>0.585</td>\n",
       "      <td>17.0</td>\n",
       "      <td>111.7</td>\n",
       "      <td>110.4</td>\n",
       "      <td>1.48</td>\n",
       "    </tr>\n",
       "    <tr>\n",
       "      <th>6</th>\n",
       "      <td>San Antonio Spurs*</td>\n",
       "      <td>47</td>\n",
       "      <td>35</td>\n",
       "      <td>0.573</td>\n",
       "      <td>18.0</td>\n",
       "      <td>102.7</td>\n",
       "      <td>99.8</td>\n",
       "      <td>2.89</td>\n",
       "    </tr>\n",
       "    <tr>\n",
       "      <th>7</th>\n",
       "      <td>Minnesota Timberwolves*</td>\n",
       "      <td>47</td>\n",
       "      <td>35</td>\n",
       "      <td>0.573</td>\n",
       "      <td>18.0</td>\n",
       "      <td>109.5</td>\n",
       "      <td>107.3</td>\n",
       "      <td>2.35</td>\n",
       "    </tr>\n",
       "    <tr>\n",
       "      <th>8</th>\n",
       "      <td>Denver Nuggets</td>\n",
       "      <td>46</td>\n",
       "      <td>36</td>\n",
       "      <td>0.561</td>\n",
       "      <td>19.0</td>\n",
       "      <td>110.0</td>\n",
       "      <td>108.5</td>\n",
       "      <td>1.57</td>\n",
       "    </tr>\n",
       "    <tr>\n",
       "      <th>9</th>\n",
       "      <td>Los Angeles Clippers</td>\n",
       "      <td>42</td>\n",
       "      <td>40</td>\n",
       "      <td>0.512</td>\n",
       "      <td>23.0</td>\n",
       "      <td>109.0</td>\n",
       "      <td>109.0</td>\n",
       "      <td>0.15</td>\n",
       "    </tr>\n",
       "    <tr>\n",
       "      <th>10</th>\n",
       "      <td>Los Angeles Lakers</td>\n",
       "      <td>35</td>\n",
       "      <td>47</td>\n",
       "      <td>0.427</td>\n",
       "      <td>30.0</td>\n",
       "      <td>108.1</td>\n",
       "      <td>109.6</td>\n",
       "      <td>-1.44</td>\n",
       "    </tr>\n",
       "    <tr>\n",
       "      <th>11</th>\n",
       "      <td>Sacramento Kings</td>\n",
       "      <td>27</td>\n",
       "      <td>55</td>\n",
       "      <td>0.329</td>\n",
       "      <td>38.0</td>\n",
       "      <td>98.8</td>\n",
       "      <td>105.8</td>\n",
       "      <td>-6.60</td>\n",
       "    </tr>\n",
       "    <tr>\n",
       "      <th>12</th>\n",
       "      <td>Dallas Mavericks</td>\n",
       "      <td>24</td>\n",
       "      <td>58</td>\n",
       "      <td>0.293</td>\n",
       "      <td>41.0</td>\n",
       "      <td>102.3</td>\n",
       "      <td>105.4</td>\n",
       "      <td>-2.70</td>\n",
       "    </tr>\n",
       "    <tr>\n",
       "      <th>13</th>\n",
       "      <td>Memphis Grizzlies</td>\n",
       "      <td>22</td>\n",
       "      <td>60</td>\n",
       "      <td>0.268</td>\n",
       "      <td>43.0</td>\n",
       "      <td>99.3</td>\n",
       "      <td>105.5</td>\n",
       "      <td>-5.81</td>\n",
       "    </tr>\n",
       "    <tr>\n",
       "      <th>14</th>\n",
       "      <td>Phoenix Suns</td>\n",
       "      <td>21</td>\n",
       "      <td>61</td>\n",
       "      <td>0.256</td>\n",
       "      <td>44.0</td>\n",
       "      <td>103.9</td>\n",
       "      <td>113.3</td>\n",
       "      <td>-8.80</td>\n",
       "    </tr>\n",
       "  </tbody>\n",
       "</table>\n",
       "</div>"
      ],
      "text/plain": [
       "         Western Conference   W   L   W/L%    GB   PS/G   PA/G   SRS\n",
       "0          Houston Rockets*  65  17  0.793     —  112.4  103.9  8.21\n",
       "1    Golden State Warriors*  58  24  0.707   7.0  113.5  107.5  5.79\n",
       "2   Portland Trail Blazers*  49  33  0.598  16.0  105.6  103.0  2.60\n",
       "3    Oklahoma City Thunder*  48  34  0.585  17.0  107.9  104.4  3.42\n",
       "4                Utah Jazz*  48  34  0.585  17.0  104.1   99.8  4.47\n",
       "5     New Orleans Pelicans*  48  34  0.585  17.0  111.7  110.4  1.48\n",
       "6        San Antonio Spurs*  47  35  0.573  18.0  102.7   99.8  2.89\n",
       "7   Minnesota Timberwolves*  47  35  0.573  18.0  109.5  107.3  2.35\n",
       "8            Denver Nuggets  46  36  0.561  19.0  110.0  108.5  1.57\n",
       "9      Los Angeles Clippers  42  40  0.512  23.0  109.0  109.0  0.15\n",
       "10       Los Angeles Lakers  35  47  0.427  30.0  108.1  109.6 -1.44\n",
       "11         Sacramento Kings  27  55  0.329  38.0   98.8  105.8 -6.60\n",
       "12         Dallas Mavericks  24  58  0.293  41.0  102.3  105.4 -2.70\n",
       "13        Memphis Grizzlies  22  60  0.268  43.0   99.3  105.5 -5.81\n",
       "14             Phoenix Suns  21  61  0.256  44.0  103.9  113.3 -8.80"
      ]
     },
     "execution_count": 32,
     "metadata": {},
     "output_type": "execute_result"
    }
   ],
   "source": [
    "# NBA网站\n",
    "url = 'https://www.basketball-reference.com/leagues/NBA_2018.html' # link to the website\n",
    "dfs = pd.read_html(url) # parses all tables found on the page.\n",
    "dfs[1]"
   ]
  },
  {
   "cell_type": "code",
   "execution_count": 41,
   "id": "42a62fa0",
   "metadata": {},
   "outputs": [
    {
     "data": {
      "text/plain": [
       "'Conference Standings'"
      ]
     },
     "execution_count": 41,
     "metadata": {},
     "output_type": "execute_result"
    }
   ],
   "source": [
    "url = 'https://www.basketball-reference.com/leagues/NBA_2018.html'\n",
    "page = requests.get(url)\n",
    "soup = BeautifulSoup(page.content, 'html.parser')\n",
    "soup.find_all('h2')[0].text"
   ]
  },
  {
   "cell_type": "code",
   "execution_count": 126,
   "id": "a2311c3e",
   "metadata": {
    "scrolled": false
   },
   "outputs": [
    {
     "name": "stdout",
     "output_type": "stream",
     "text": [
      "162\n",
      "0\n",
      "1\n",
      "2\n",
      "3\n",
      "4\n",
      "5\n",
      "6\n",
      "7\n",
      "8\n"
     ]
    }
   ],
   "source": [
    "# Mapping exercise - 招聘网站\n",
    "url = 'https://www.jobindex.dk/jobsoegning/storkoebenhavn?page=2&q=python'\n",
    "page = requests.get(url)\n",
    "soup = BeautifulSoup(page.content, 'html.parser')\n",
    "\n",
    "jobs = int(soup.find('span',attrs={'class':'d-md-none'}).text[0:3])   # element:<span class=\"d-md-none\">162 job fundet</span>\n",
    "print(jobs)\n",
    "\n",
    "# 20 jobs per page\n",
    "for i in range(round(jobs/20)+1):\n",
    "    print(i)\n",
    "#for i in range(round(jobs/20)+1):\n",
    "    #print('https://www.jobindex.dk/jobsoegning/storkoebenhavn?page=' + str(i) +'&q=python')  #没看懂这步在干啥"
   ]
  },
  {
   "cell_type": "code",
   "execution_count": 107,
   "id": "bb0fb804",
   "metadata": {},
   "outputs": [
    {
     "name": "stdout",
     "output_type": "stream",
     "text": [
      "<scraping_class.scraping_class.Connector object at 0x0000026E614382B0>\n"
     ]
    }
   ],
   "source": [
    "# keep logging as a habit\n",
    "import scraping_class\n",
    "logfile = 'log.csv'## name your log file.\n",
    "connector = scraping_class.Connector(logfile)\n",
    "print(connector)"
   ]
  },
  {
   "cell_type": "code",
   "execution_count": 145,
   "id": "a674af6e",
   "metadata": {
    "scrolled": true
   },
   "outputs": [
    {
     "name": "stdout",
     "output_type": "stream",
     "text": [
      "[]\n"
     ]
    }
   ],
   "source": [
    "# Exercise 不会做\n",
    "url = 'https://job.jobnet.dk/CV/FindWork?Offset=0&SortValue=BestMatch'\n",
    "page = requests.get(url)\n",
    "soup = BeautifulSoup(page.content, 'html.parser')\n",
    "\n",
    "jobs = soup.find_all('span',attr={'class':'sr-only'})\n",
    "print(jobs)"
   ]
  },
  {
   "cell_type": "code",
   "execution_count": null,
   "id": "c8a10204",
   "metadata": {},
   "outputs": [],
   "source": []
  }
 ],
 "metadata": {
  "kernelspec": {
   "display_name": "Python 3 (ipykernel)",
   "language": "python",
   "name": "python3"
  },
  "language_info": {
   "codemirror_mode": {
    "name": "ipython",
    "version": 3
   },
   "file_extension": ".py",
   "mimetype": "text/x-python",
   "name": "python",
   "nbconvert_exporter": "python",
   "pygments_lexer": "ipython3",
   "version": "3.9.7"
  }
 },
 "nbformat": 4,
 "nbformat_minor": 5
}
