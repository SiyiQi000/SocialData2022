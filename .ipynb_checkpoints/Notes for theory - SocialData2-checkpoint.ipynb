{
 "cells": [
  {
   "cell_type": "markdown",
   "id": "73d5686e",
   "metadata": {},
   "source": [
    "## Introduction to social data science\n",
    "#### Pandas\n",
    "##### Series：\n",
    "<center>A vector/list with labels for each entry.由data,index赋值<center>\n",
    "<center>和dic的区别：series的indices可以相同,且有序<center>"
   ]
  },
  {
   "cell_type": "code",
   "execution_count": null,
   "id": "b8774a21",
   "metadata": {},
   "outputs": [],
   "source": [
    "import pandas as pd\n",
    "import numpy as np\n",
    "import seaborn as sns\n",
    "import yfinance as yf"
   ]
  }
 ],
 "metadata": {
  "kernelspec": {
   "display_name": "Python 3 (ipykernel)",
   "language": "python",
   "name": "python3"
  },
  "language_info": {
   "codemirror_mode": {
    "name": "ipython",
    "version": 3
   },
   "file_extension": ".py",
   "mimetype": "text/x-python",
   "name": "python",
   "nbconvert_exporter": "python",
   "pygments_lexer": "ipython3",
   "version": "3.9.7"
  }
 },
 "nbformat": 4,
 "nbformat_minor": 5
}
