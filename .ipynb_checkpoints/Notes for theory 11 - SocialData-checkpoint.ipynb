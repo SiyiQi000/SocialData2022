{
 "cells": [
  {
   "cell_type": "markdown",
   "id": "73d5686e",
   "metadata": {},
   "source": [
    "## Introduction to social data science\n",
    "#### Pandas\n",
    "    Series：\n",
    "<center>A vector/list with labels for each entry.由data,index赋值<center>\n",
    "<center>和dic的区别：series的indices可以相同,且有序<center>"
   ]
  },
  {
   "cell_type": "code",
   "execution_count": 1,
   "id": "e180902e",
   "metadata": {},
   "outputs": [],
   "source": [
    "import pandas as pd\n",
    "import numpy as np"
   ]
  },
  {
   "cell_type": "code",
   "execution_count": 2,
   "id": "1f1b4ec2",
   "metadata": {},
   "outputs": [
    {
     "data": {
      "text/plain": [
       "0       1\n",
       "1     1.2\n",
       "2     abc\n",
       "3    True\n",
       "dtype: object"
      ]
     },
     "execution_count": 2,
     "metadata": {},
     "output_type": "execute_result"
    }
   ],
   "source": [
    "#设置一个series\n",
    "L = [1, 1.2, 'abc', True]\n",
    "\n",
    "my_series = pd.Series(L)\n",
    "my_series"
   ]
  },
  {
   "cell_type": "code",
   "execution_count": 3,
   "id": "60d7681d",
   "metadata": {},
   "outputs": [
    {
     "data": {
      "text/plain": [
       "B    0\n",
       "C    1\n",
       "A    2\n",
       "dtype: int64"
      ]
     },
     "execution_count": 3,
     "metadata": {},
     "output_type": "execute_result"
    }
   ],
   "source": [
    "#具有自定义索引的series\n",
    "num_data = range(0,3) # Generate data\n",
    "indices = ['B', 'C', 'A'] # Generate index names\n",
    "my_series2 = pd.Series(data=num_data, index=indices) # Create a pandas series from the two\n",
    "my_series2"
   ]
  },
  {
   "cell_type": "code",
   "execution_count": 4,
   "id": "6542defd",
   "metadata": {},
   "outputs": [
    {
     "data": {
      "text/plain": [
       "{0: 1, 1: 1.2, 2: 'abc', 3: True}"
      ]
     },
     "execution_count": 4,
     "metadata": {},
     "output_type": "execute_result"
    }
   ],
   "source": [
    "#series转dictionary\n",
    "my_series.to_dict()"
   ]
  },
  {
   "cell_type": "code",
   "execution_count": 5,
   "id": "351fec16",
   "metadata": {},
   "outputs": [
    {
     "data": {
      "text/plain": [
       "yesterday    0\n",
       "today        1\n",
       "tomorrow     3\n",
       "dtype: int64"
      ]
     },
     "execution_count": 5,
     "metadata": {},
     "output_type": "execute_result"
    }
   ],
   "source": [
    "#dictionary转series\n",
    "d = {'yesterday': 0, 'today': 1, 'tomorrow':3} # Create some dictionary\n",
    "my_series3 = pd.Series(d) # Use the constructor\n",
    "my_series3"
   ]
  },
  {
   "cell_type": "code",
   "execution_count": 6,
   "id": "ce36db93",
   "metadata": {},
   "outputs": [
    {
     "name": "stdout",
     "output_type": "stream",
     "text": [
      "A    0\n",
      "A    1\n",
      "A    2\n",
      "dtype: int64\n"
     ]
    }
   ],
   "source": [
    "s = pd.Series(range(3), index=['A','A', 'A']) # Create series with same indices\n",
    "print(s) # Check duplicates"
   ]
  },
  {
   "cell_type": "markdown",
   "id": "ba3d42b4",
   "metadata": {},
   "source": [
    "    Data Frames:\n",
    "<center>A vector/list with labels for each entry.由data,index赋值<center>\n",
    "<center>和dic的区别：series的indices可以相同,且有序<center>"
   ]
  },
  {
   "cell_type": "code",
   "execution_count": 7,
   "id": "4da4e8a7",
   "metadata": {},
   "outputs": [
    {
     "data": {
      "text/html": [
       "<div>\n",
       "<style scoped>\n",
       "    .dataframe tbody tr th:only-of-type {\n",
       "        vertical-align: middle;\n",
       "    }\n",
       "\n",
       "    .dataframe tbody tr th {\n",
       "        vertical-align: top;\n",
       "    }\n",
       "\n",
       "    .dataframe thead th {\n",
       "        text-align: right;\n",
       "    }\n",
       "</style>\n",
       "<table border=\"1\" class=\"dataframe\">\n",
       "  <thead>\n",
       "    <tr style=\"text-align: right;\">\n",
       "      <th></th>\n",
       "      <th>A</th>\n",
       "      <th>B</th>\n",
       "    </tr>\n",
       "  </thead>\n",
       "  <tbody>\n",
       "    <tr>\n",
       "      <th>0</th>\n",
       "      <td>1</td>\n",
       "      <td>2</td>\n",
       "    </tr>\n",
       "    <tr>\n",
       "      <th>1</th>\n",
       "      <td>3</td>\n",
       "      <td>4</td>\n",
       "    </tr>\n",
       "  </tbody>\n",
       "</table>\n",
       "</div>"
      ],
      "text/plain": [
       "   A  B\n",
       "0  1  2\n",
       "1  3  4"
      ]
     },
     "execution_count": 7,
     "metadata": {},
     "output_type": "execute_result"
    }
   ],
   "source": [
    "#创建2*2data frame\n",
    "df = pd.DataFrame(data=[[1,2],[3,4]],\n",
    "                  columns=['A', 'B'])\n",
    "df"
   ]
  },
  {
   "cell_type": "code",
   "execution_count": 8,
   "id": "12df0279",
   "metadata": {},
   "outputs": [
    {
     "data": {
      "text/html": [
       "<div>\n",
       "<style scoped>\n",
       "    .dataframe tbody tr th:only-of-type {\n",
       "        vertical-align: middle;\n",
       "    }\n",
       "\n",
       "    .dataframe tbody tr th {\n",
       "        vertical-align: top;\n",
       "    }\n",
       "\n",
       "    .dataframe thead th {\n",
       "        text-align: right;\n",
       "    }\n",
       "</style>\n",
       "<table border=\"1\" class=\"dataframe\">\n",
       "  <thead>\n",
       "    <tr style=\"text-align: right;\">\n",
       "      <th></th>\n",
       "      <th>january</th>\n",
       "      <th>february</th>\n",
       "      <th>march</th>\n",
       "    </tr>\n",
       "  </thead>\n",
       "  <tbody>\n",
       "    <tr>\n",
       "      <th>1st</th>\n",
       "      <td>0</td>\n",
       "      <td>-3</td>\n",
       "      <td>3</td>\n",
       "    </tr>\n",
       "    <tr>\n",
       "      <th>2nd</th>\n",
       "      <td>1</td>\n",
       "      <td>-1</td>\n",
       "      <td>5</td>\n",
       "    </tr>\n",
       "    <tr>\n",
       "      <th>3rd</th>\n",
       "      <td>3</td>\n",
       "      <td>-2</td>\n",
       "      <td>4</td>\n",
       "    </tr>\n",
       "  </tbody>\n",
       "</table>\n",
       "</div>"
      ],
      "text/plain": [
       "     january  february  march\n",
       "1st        0        -3      3\n",
       "2nd        1        -1      5\n",
       "3rd        3        -2      4"
      ]
     },
     "execution_count": 8,
     "metadata": {},
     "output_type": "execute_result"
    }
   ],
   "source": [
    "#从dic创建data frame\n",
    "djan = {'1st': 0, '2nd': 1, '3rd':3} # Create some dictionary for january\n",
    "dfeb = {'1st': -3, '2nd': -1, '3rd':-2} # Create some dictionary for february\n",
    "dmar = {'1st': 3, '2nd': 5, '3rd':4} # Create some dictionary for march\n",
    "\n",
    "d = {'january': djan, 'february': dfeb, 'march': dmar} # Create dictionary of dictionaries\n",
    "my_df1 = pd.DataFrame(d) # Use the constructor\n",
    "my_df1"
   ]
  },
  {
   "cell_type": "code",
   "execution_count": 9,
   "id": "29d3fea6",
   "metadata": {},
   "outputs": [
    {
     "name": "stdout",
     "output_type": "stream",
     "text": [
      "yesterday    0\n",
      "today        1\n",
      "tomorrow     3\n",
      "dtype: int64\n",
      "\n",
      "yesterday    0.0\n",
      "today        1.0\n",
      "tomorrow     3.0\n",
      "dtype: float64\n",
      "\n",
      "yesterday    0\n",
      "today        1\n",
      "tomorrow     3\n",
      "dtype: object\n"
     ]
    }
   ],
   "source": [
    "#用astype转换数据格式\n",
    "print(my_series3)\n",
    "print()\n",
    "print(my_series3.astype(float))\n",
    "print()\n",
    "print(my_series3.astype(str))"
   ]
  },
  {
   "cell_type": "code",
   "execution_count": 10,
   "id": "f1e1f56a",
   "metadata": {},
   "outputs": [
    {
     "data": {
      "text/html": [
       "<div>\n",
       "<style scoped>\n",
       "    .dataframe tbody tr th:only-of-type {\n",
       "        vertical-align: middle;\n",
       "    }\n",
       "\n",
       "    .dataframe tbody tr th {\n",
       "        vertical-align: top;\n",
       "    }\n",
       "\n",
       "    .dataframe thead th {\n",
       "        text-align: right;\n",
       "    }\n",
       "</style>\n",
       "<table border=\"1\" class=\"dataframe\">\n",
       "  <thead>\n",
       "    <tr style=\"text-align: right;\">\n",
       "      <th></th>\n",
       "      <th>survived</th>\n",
       "      <th>pclass</th>\n",
       "      <th>sex</th>\n",
       "      <th>age</th>\n",
       "      <th>sibsp</th>\n",
       "      <th>parch</th>\n",
       "      <th>fare</th>\n",
       "      <th>embarked</th>\n",
       "      <th>class</th>\n",
       "      <th>who</th>\n",
       "      <th>adult_male</th>\n",
       "      <th>deck</th>\n",
       "      <th>embark_town</th>\n",
       "      <th>alive</th>\n",
       "      <th>alone</th>\n",
       "    </tr>\n",
       "  </thead>\n",
       "  <tbody>\n",
       "    <tr>\n",
       "      <th>0</th>\n",
       "      <td>0</td>\n",
       "      <td>3</td>\n",
       "      <td>male</td>\n",
       "      <td>22.0</td>\n",
       "      <td>1</td>\n",
       "      <td>0</td>\n",
       "      <td>7.2500</td>\n",
       "      <td>S</td>\n",
       "      <td>Third</td>\n",
       "      <td>man</td>\n",
       "      <td>True</td>\n",
       "      <td>NaN</td>\n",
       "      <td>Southampton</td>\n",
       "      <td>no</td>\n",
       "      <td>False</td>\n",
       "    </tr>\n",
       "    <tr>\n",
       "      <th>1</th>\n",
       "      <td>1</td>\n",
       "      <td>1</td>\n",
       "      <td>female</td>\n",
       "      <td>38.0</td>\n",
       "      <td>1</td>\n",
       "      <td>0</td>\n",
       "      <td>71.2833</td>\n",
       "      <td>C</td>\n",
       "      <td>First</td>\n",
       "      <td>woman</td>\n",
       "      <td>False</td>\n",
       "      <td>C</td>\n",
       "      <td>Cherbourg</td>\n",
       "      <td>yes</td>\n",
       "      <td>False</td>\n",
       "    </tr>\n",
       "    <tr>\n",
       "      <th>2</th>\n",
       "      <td>1</td>\n",
       "      <td>3</td>\n",
       "      <td>female</td>\n",
       "      <td>26.0</td>\n",
       "      <td>0</td>\n",
       "      <td>0</td>\n",
       "      <td>7.9250</td>\n",
       "      <td>S</td>\n",
       "      <td>Third</td>\n",
       "      <td>woman</td>\n",
       "      <td>False</td>\n",
       "      <td>NaN</td>\n",
       "      <td>Southampton</td>\n",
       "      <td>yes</td>\n",
       "      <td>True</td>\n",
       "    </tr>\n",
       "  </tbody>\n",
       "</table>\n",
       "</div>"
      ],
      "text/plain": [
       "   survived  pclass     sex   age  sibsp  parch     fare embarked  class  \\\n",
       "0         0       3    male  22.0      1      0   7.2500        S  Third   \n",
       "1         1       1  female  38.0      1      0  71.2833        C  First   \n",
       "2         1       3  female  26.0      0      0   7.9250        S  Third   \n",
       "\n",
       "     who  adult_male deck  embark_town alive  alone  \n",
       "0    man        True  NaN  Southampton    no  False  \n",
       "1  woman       False    C    Cherbourg   yes  False  \n",
       "2  woman       False  NaN  Southampton   yes   True  "
      ]
     },
     "execution_count": 10,
     "metadata": {},
     "output_type": "execute_result"
    }
   ],
   "source": [
    "#打印头3行，尾3行\n",
    "import seaborn as sns\n",
    "titanic = sns.load_dataset('titanic')\n",
    "titanic.head(3)\n",
    "#titanic.tail(3)"
   ]
  },
  {
   "cell_type": "code",
   "execution_count": 11,
   "id": "39d983b1",
   "metadata": {},
   "outputs": [
    {
     "name": "stdout",
     "output_type": "stream",
     "text": [
      "   survived   age     sex\n",
      "0         0  22.0    male\n",
      "1         1  38.0  female\n",
      "2         1  26.0  female\n",
      "    survived  pclass     sex   age  sibsp\n",
      "10         1       3  female   4.0      1\n",
      "11         1       1  female  58.0      0\n",
      "12         0       3    male  20.0      0\n",
      "13         0       3    male  39.0      1\n",
      "14         0       3  female  14.0      0\n"
     ]
    },
    {
     "data": {
      "text/html": [
       "<div>\n",
       "<style scoped>\n",
       "    .dataframe tbody tr th:only-of-type {\n",
       "        vertical-align: middle;\n",
       "    }\n",
       "\n",
       "    .dataframe tbody tr th {\n",
       "        vertical-align: top;\n",
       "    }\n",
       "\n",
       "    .dataframe thead th {\n",
       "        text-align: right;\n",
       "    }\n",
       "</style>\n",
       "<table border=\"1\" class=\"dataframe\">\n",
       "  <thead>\n",
       "    <tr style=\"text-align: right;\">\n",
       "      <th></th>\n",
       "      <th>survived</th>\n",
       "    </tr>\n",
       "  </thead>\n",
       "  <tbody>\n",
       "    <tr>\n",
       "      <th>0</th>\n",
       "      <td>0</td>\n",
       "    </tr>\n",
       "    <tr>\n",
       "      <th>1</th>\n",
       "      <td>1</td>\n",
       "    </tr>\n",
       "    <tr>\n",
       "      <th>2</th>\n",
       "      <td>1</td>\n",
       "    </tr>\n",
       "  </tbody>\n",
       "</table>\n",
       "</div>"
      ],
      "text/plain": [
       "   survived\n",
       "0         0\n",
       "1         1\n",
       "2         1"
      ]
     },
     "execution_count": 11,
     "metadata": {},
     "output_type": "execute_result"
    }
   ],
   "source": [
    "# use loc and .iloc to select\n",
    "print(titanic.loc[range(3),['survived', 'age', 'sex']])\n",
    "print(titanic.iloc[10:15,:5])\n",
    "# use column to select\n",
    "titanic[['survived']].head(3)"
   ]
  },
  {
   "cell_type": "code",
   "execution_count": 12,
   "id": "209a09ed",
   "metadata": {},
   "outputs": [
    {
     "name": "stdout",
     "output_type": "stream",
     "text": [
      "     a  b\n",
      "i    1  2\n",
      "ii   3  4\n",
      "iii  5  6\n",
      "   b\n",
      "a   \n",
      "1  2\n",
      "3  4\n",
      "5  6\n",
      "   a  b\n",
      "0  1  2\n",
      "1  3  4\n",
      "2  5  6\n",
      "\n",
      "   b\n",
      "0  2\n",
      "1  4\n",
      "2  6\n",
      "     A  B\n",
      "i    1  2\n",
      "ii   3  4\n",
      "iii  5  6\n",
      "     Aa  B\n",
      "i     1  2\n",
      "ii    3  4\n",
      "iii   5  6\n",
      "     Aa  B\n",
      "ii    3  4\n",
      "i    10  2\n",
      "iii  10  6\n",
      "     Aa  B\n",
      "i    10  2\n",
      "ii    3  4\n",
      "iii  10  6\n"
     ]
    }
   ],
   "source": [
    "# change the index of Data Frame\n",
    "my_df = pd.DataFrame([[1,2], [3,4], [5,6]], columns = ['a', 'b'], index = ['i', 'ii', 'iii'])\n",
    "print(my_df)\n",
    "my_df_a = my_df.set_index('a')\n",
    "print(my_df_a)\n",
    "print(my_df_a.reset_index()) # drop=True\n",
    "print()\n",
    "print(my_df_a.reset_index(drop=True)) # drop=True\n",
    "\n",
    "# change column names\n",
    "my_df.columns = ['A', 'B']\n",
    "print(my_df)\n",
    "my_df.rename(columns={'A': 'Aa'}, inplace=True)\n",
    "print(my_df)\n",
    "\n",
    "#sort data\n",
    "my_loc2 = ['i', 'iii']\n",
    "my_df.loc[my_loc2, 'Aa'] = 10\n",
    "\n",
    "print(my_df.sort_values(by='Aa', ascending=True))\n",
    "print(my_df.sort_index())"
   ]
  },
  {
   "cell_type": "code",
   "execution_count": 13,
   "id": "297bcfdd",
   "metadata": {},
   "outputs": [
    {
     "name": "stdout",
     "output_type": "stream",
     "text": [
      "yesterday    0\n",
      "today        1\n",
      "tomorrow     3\n",
      "dtype: int64\n",
      "\n",
      "yesterday    0\n",
      "today        1\n",
      "dtype: int64\n",
      "\n",
      "0    False\n",
      "1     True\n",
      "2    False\n",
      "dtype: bool\n"
     ]
    }
   ],
   "source": [
    "# boolean selection\n",
    "print(my_series3)\n",
    "print()\n",
    "print(my_series3[my_series3<3])\n",
    "print()\n",
    "print(((titanic.sex == 'female') & (titanic.age >= 30)).head(3)) # selection by multiple columns"
   ]
  },
  {
   "cell_type": "code",
   "execution_count": 14,
   "id": "429a3669",
   "metadata": {},
   "outputs": [
    {
     "name": "stdout",
     "output_type": "stream",
     "text": [
      "0    BSc Political Science\n",
      "1         Secondary School\n",
      "2              High School\n",
      "3              High School\n",
      "4    BSc Political Science\n",
      "dtype: category\n",
      "Categories (3, object): ['Secondary School' < 'High School' < 'BSc Political Science']\n",
      "\n"
     ]
    },
    {
     "data": {
      "text/plain": [
       "IntervalIndex([(-5.0600000000000005, -1.957], (-1.957, 1.96], (1.96, 5.155]], dtype='interval[float64, right]')"
      ]
     },
     "execution_count": 14,
     "metadata": {},
     "output_type": "execute_result"
    }
   ],
   "source": [
    "# categorical data with order\n",
    "edu_list = ['BSc Political Science', 'Secondary School'] + ['High School']*2\n",
    "edu_cats = ['Secondary School', 'High School', 'BSc Political Science']\n",
    "\n",
    "str_ser = pd.Series(edu_list*10**5)\n",
    "cats = pd.Categorical(str_ser, categories=edu_cats, ordered=True)\n",
    "cat_ser2 = pd.Series(cats, index=str_ser.index)\n",
    "print(cat_ser2[:5])\n",
    "print()\n",
    "\n",
    "# 分位数切片分类\n",
    "cat_ser3 = pd.qcut(pd.Series(np.random.normal(size = 10**6)), q = [0,0.025, 0.975, 1])\n",
    "cat_ser3.cat.categories"
   ]
  },
  {
   "cell_type": "code",
   "execution_count": 16,
   "id": "04bb4fd2",
   "metadata": {},
   "outputs": [
    {
     "name": "stdout",
     "output_type": "stream",
     "text": [
      "0   2017-01-01\n",
      "1   2017-07-27\n",
      "2   2017-08-03\n",
      "3   2017-12-24\n",
      "dtype: datetime64[ns]\n",
      "\n",
      "0   1970-01-01 00:00:00.020170101\n",
      "1   1970-01-01 00:00:00.020170727\n",
      "2   1970-01-01 00:00:00.020170803\n",
      "3   1970-01-01 00:00:00.020171224\n",
      "dtype: datetime64[ns]\n",
      "\n",
      "[*********************100%***********************]  1 of 1 completed\n"
     ]
    },
    {
     "data": {
      "text/plain": [
       "0        1980\n",
       "1        1980\n",
       "2        1980\n",
       "3        1980\n",
       "4        1980\n",
       "         ... \n",
       "10493    2022\n",
       "10494    2022\n",
       "10495    2022\n",
       "10496    2022\n",
       "10497    2022\n",
       "Name: Date, Length: 10498, dtype: int64"
      ]
     },
     "execution_count": 16,
     "metadata": {},
     "output_type": "execute_result"
    }
   ],
   "source": [
    "# 时间数据 in pandas\n",
    "str_ser2 = pd.Series(['20170101', '20170727', '20170803', '20171224'])\n",
    "print(pd.to_datetime(str_ser2)) #datetime格式\n",
    "print()\n",
    "print(pd.to_datetime(str_ser2.astype(int))) #epoch time格式\n",
    "print()\n",
    "\n",
    "# extract time data\n",
    "import yfinance as yf\n",
    "aapl = yf.download(\"AAPL\", data_source='yahoo')['Adj Close']\n",
    "dt_ser2 = pd.Series(aapl.index)\n",
    "dt_ser2.dt.year #also year, weekday, hour, second"
   ]
  }
 ],
 "metadata": {
  "kernelspec": {
   "display_name": "Python 3 (ipykernel)",
   "language": "python",
   "name": "python3"
  },
  "language_info": {
   "codemirror_mode": {
    "name": "ipython",
    "version": 3
   },
   "file_extension": ".py",
   "mimetype": "text/x-python",
   "name": "python",
   "nbconvert_exporter": "python",
   "pygments_lexer": "ipython3",
   "version": "3.9.7"
  }
 },
 "nbformat": 4,
 "nbformat_minor": 5
}
