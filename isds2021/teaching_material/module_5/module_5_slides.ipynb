{
 "cells": [
  {
   "cell_type": "markdown",
   "metadata": {
    "slideshow": {
     "slide_type": "slide"
    }
   },
   "source": [
    "<style>\n",
    ".rendered_html * + ul {\n",
    "\tmargin-top: 0.5em;\n",
    "}\n",
    "    div.text_cell_render {\n",
    "    padding: 0.0em 0.0em 0.0em 0.0em;\n",
    "}\n",
    "    .reveal p {\n",
    "    margin: 20px 10;\n",
    "    line-height: 1.3;\n",
    "}\n",
    "    html, body, .reveal div, .reveal span, .reveal applet, .reveal object, .reveal iframe, .reveal h1, .reveal h2, .reveal h3, .reveal h4, .reveal h5, .reveal h6, .reveal p, .reveal blockquote, .reveal pre, .reveal a, .reveal abbr, .reveal acronym, .reveal address, .reveal big, .reveal cite, .reveal code, .reveal del, .reveal dfn, .reveal em, .reveal img, .reveal ins, .reveal kbd, .reveal q, .reveal s, .reveal samp, .reveal small, .reveal strike, .reveal strong, .reveal sub, .reveal sup, .reveal tt, .reveal var, .reveal b, .reveal u, .reveal center, .reveal dl, .reveal dt, .reveal dd, .reveal ol, .reveal ul, .reveal li, .reveal fieldset, .reveal form, .reveal label, .reveal legend, .reveal table, .reveal caption, .reveal tbody, .reveal tfoot, .reveal thead, .reveal tr, .reveal th, .reveal td, .reveal article, .reveal aside, .reveal canvas, .reveal details, .reveal embed, .reveal figure, .reveal figcaption, .reveal footer, .reveal header, .reveal hgroup, .reveal menu, .reveal nav, .reveal output, .reveal ruby, .reveal section, .reveal summary, .reveal time, .reveal mark, .reveal audio, .reveal video {\n",
    "    margin-bottom: -1px;\n",
    "}\n",
    "    div.text_cell_render {\n",
    "    padding: 0em 0em 0.5em 0.0em;\n",
    "}\n",
    "</style>\n",
    "\n",
    "# Session 5: Strings, Queries and APIs\n",
    "\n",
    "*Joachim Kahr Rasmussen*"
   ]
  },
  {
   "cell_type": "markdown",
   "metadata": {
    "slideshow": {
     "slide_type": "slide"
    }
   },
   "source": [
    "# Solutions\n",
    "\n",
    "Solutions for module 2 to 4 should now be up!"
   ]
  },
  {
   "cell_type": "markdown",
   "metadata": {
    "slideshow": {
     "slide_type": "slide"
    }
   },
   "source": [
    "# Assignment 1\n",
    "\n",
    "should also be up!"
   ]
  },
  {
   "cell_type": "markdown",
   "metadata": {
    "slideshow": {
     "slide_type": "slide"
    }
   },
   "source": [
    "# Supervision Sheet\n",
    "\n",
    "On Absalon (under _files_), you can find a document called \"Supervision Sheet\"."
   ]
  },
  {
   "cell_type": "markdown",
   "metadata": {
    "slideshow": {
     "slide_type": "fragment"
    }
   },
   "source": [
    "At some point before your first supervision meeting, we want you to:\n",
    "- Meet with your group\n",
    "- Fill in the supervision sheet\n",
    "- Print it (and bring it to your first round of supervision)"
   ]
  },
  {
   "cell_type": "markdown",
   "metadata": {
    "slideshow": {
     "slide_type": "fragment"
    }
   },
   "source": [
    "We don't want to increase your workload... but we hope that this will:\n",
    "- Motivate you to think about topic\n",
    "- Motivate you to think about data\n",
    "- Motivate you to think about how to distribute responsibilities\n",
    "- Make your meeting with supervisor more productive"
   ]
  },
  {
   "cell_type": "markdown",
   "metadata": {
    "slideshow": {
     "slide_type": "slide"
    }
   },
   "source": [
    "## Recap (I/II) \n",
    "\n",
    "We can think of there as being two 'types' of plots:\n",
    "- **Exploratory** plots: Figures for understanding data\n",
    "    - Quick to produce $\\sim$ minimal polishing\n",
    "    - Interesting feature may by implied by the producer\n",
    "    - Be careful showing these out of context\n",
    "- **Explanatory** plots: Figures to convey a message\n",
    "    - Polished figures\n",
    "    - Direct attention to interesting feature in the data\n",
    "    - Minimize risk of misunderstanding"
   ]
  },
  {
   "cell_type": "markdown",
   "metadata": {
    "slideshow": {
     "slide_type": "fragment"
    }
   },
   "source": [
    "There exist several packages for plotting.  Some popular ones:\n",
    "- `Matplotlib` is good for customization (explanatory plots)\n",
    "    - Might take a lot of time when customizing!\n",
    "- `Seaborn` and `Pandas` are good quick and dirty plots (exploratory)"
   ]
  },
  {
   "cell_type": "markdown",
   "metadata": {
    "slideshow": {
     "slide_type": "slide"
    }
   },
   "source": [
    "## Recap (II/II) \n",
    "\n",
    "We need to put a lot of thinking in how to present data.\n",
    "\n",
    "In particular, one must consider the *type* of data that is to be presented:"
   ]
  },
  {
   "cell_type": "markdown",
   "metadata": {
    "slideshow": {
     "slide_type": "fragment"
    }
   },
   "source": [
    "- One variable:\n",
    "    - Categorical: Pie charts, simple counts, etc.\n",
    "    - Numeric: Histograms, distplot (/cumulative), boxplot in seaborn\n"
   ]
  },
  {
   "cell_type": "markdown",
   "metadata": {
    "slideshow": {
     "slide_type": "fragment"
    }
   },
   "source": [
    "- Multiple variables:\n",
    "    - `scatter` (matplotlib) or `jointplot` (seaborn) for (i) simple descriptives when (ii) both variables are numeric and (iii) there are not too many observations\n",
    "    - `lmplot` or `regplot` (seaborn) when you also want to fit a linear model\n",
    "    - `barplot` (matplotlib), `catplot` and `violinplot` (both seaborn) when one or more variables are categorical\n",
    "    - The option `hue` allows you to add a \"third\" categorical dimension... use with care\n",
    "    - Lots of other plot types and options. Go explore yourself!"
   ]
  },
  {
   "cell_type": "markdown",
   "metadata": {
    "slideshow": {
     "slide_type": "fragment"
    }
   },
   "source": [
    "- When you just want to explore: `pairplot` (seaborn) plots all pairwise correlations"
   ]
  },
  {
   "cell_type": "markdown",
   "metadata": {
    "slideshow": {
     "slide_type": "slide"
    }
   },
   "source": [
    "# Questions from Yesterday\n",
    "\n",
    "I have tried to gather some questions that seemed to address more general issues:\n",
    "- Something is wrong when I use split-apply-combine...\n",
    "- I cannot delete duplicates..."
   ]
  },
  {
   "cell_type": "markdown",
   "metadata": {
    "slideshow": {
     "slide_type": "slide"
    }
   },
   "source": [
    "# Something Is Wrong When I Use Split-Apply-Combine (I/III)\n",
    "\n",
    "Let's \"simulate\" some data!"
   ]
  },
  {
   "cell_type": "code",
   "execution_count": 1,
   "metadata": {},
   "outputs": [
    {
     "data": {
      "text/html": [
       "<div>\n",
       "<style scoped>\n",
       "    .dataframe tbody tr th:only-of-type {\n",
       "        vertical-align: middle;\n",
       "    }\n",
       "\n",
       "    .dataframe tbody tr th {\n",
       "        vertical-align: top;\n",
       "    }\n",
       "\n",
       "    .dataframe thead th {\n",
       "        text-align: right;\n",
       "    }\n",
       "</style>\n",
       "<table border=\"1\" class=\"dataframe\">\n",
       "  <thead>\n",
       "    <tr style=\"text-align: right;\">\n",
       "      <th></th>\n",
       "      <th>cat1</th>\n",
       "      <th>cat2</th>\n",
       "      <th>val1</th>\n",
       "      <th>val2</th>\n",
       "    </tr>\n",
       "  </thead>\n",
       "  <tbody>\n",
       "    <tr>\n",
       "      <th>0</th>\n",
       "      <td>a</td>\n",
       "      <td>c</td>\n",
       "      <td>2</td>\n",
       "      <td>3</td>\n",
       "    </tr>\n",
       "    <tr>\n",
       "      <th>1</th>\n",
       "      <td>a</td>\n",
       "      <td>c</td>\n",
       "      <td>6</td>\n",
       "      <td>7</td>\n",
       "    </tr>\n",
       "    <tr>\n",
       "      <th>2</th>\n",
       "      <td>a</td>\n",
       "      <td>d</td>\n",
       "      <td>10</td>\n",
       "      <td>11</td>\n",
       "    </tr>\n",
       "    <tr>\n",
       "      <th>3</th>\n",
       "      <td>a</td>\n",
       "      <td>d</td>\n",
       "      <td>14</td>\n",
       "      <td>15</td>\n",
       "    </tr>\n",
       "    <tr>\n",
       "      <th>4</th>\n",
       "      <td>b</td>\n",
       "      <td>c</td>\n",
       "      <td>18</td>\n",
       "      <td>19</td>\n",
       "    </tr>\n",
       "    <tr>\n",
       "      <th>5</th>\n",
       "      <td>b</td>\n",
       "      <td>c</td>\n",
       "      <td>22</td>\n",
       "      <td>23</td>\n",
       "    </tr>\n",
       "    <tr>\n",
       "      <th>6</th>\n",
       "      <td>b</td>\n",
       "      <td>d</td>\n",
       "      <td>26</td>\n",
       "      <td>27</td>\n",
       "    </tr>\n",
       "    <tr>\n",
       "      <th>7</th>\n",
       "      <td>b</td>\n",
       "      <td>d</td>\n",
       "      <td>30</td>\n",
       "      <td>31</td>\n",
       "    </tr>\n",
       "  </tbody>\n",
       "</table>\n",
       "</div>"
      ],
      "text/plain": [
       "  cat1 cat2  val1  val2\n",
       "0    a    c     2     3\n",
       "1    a    c     6     7\n",
       "2    a    d    10    11\n",
       "3    a    d    14    15\n",
       "4    b    c    18    19\n",
       "5    b    c    22    23\n",
       "6    b    d    26    27\n",
       "7    b    d    30    31"
      ]
     },
     "execution_count": 1,
     "metadata": {},
     "output_type": "execute_result"
    }
   ],
   "source": [
    "import numpy as np\n",
    "import pandas as pd\n",
    "df = pd.DataFrame(np.arange(32).reshape(8,4), columns = [\"cat1\", \"cat2\", \"val1\", \"val2\"])\n",
    "df.loc[[0,1,2,3],['cat1']]='a'\n",
    "df.loc[[4,5,6,7],['cat1']]='b'\n",
    "df.loc[[0,1,4,5],['cat2']]='c'\n",
    "df.loc[[2,3,6,7],['cat2']]='d'\n",
    "df"
   ]
  },
  {
   "cell_type": "markdown",
   "metadata": {
    "slideshow": {
     "slide_type": "slide"
    }
   },
   "source": [
    "# Something Is Wrong When I Use Split-Apply-Combine (II/III)\n",
    "\n",
    "In general, the syntax is always the same. For most purposes, do exactly THIS (unless you use `.transform()`)"
   ]
  },
  {
   "cell_type": "code",
   "execution_count": 2,
   "metadata": {},
   "outputs": [
    {
     "data": {
      "text/html": [
       "<div>\n",
       "<style scoped>\n",
       "    .dataframe tbody tr th:only-of-type {\n",
       "        vertical-align: middle;\n",
       "    }\n",
       "\n",
       "    .dataframe tbody tr th {\n",
       "        vertical-align: top;\n",
       "    }\n",
       "\n",
       "    .dataframe thead tr th {\n",
       "        text-align: left;\n",
       "    }\n",
       "\n",
       "    .dataframe thead tr:last-of-type th {\n",
       "        text-align: right;\n",
       "    }\n",
       "</style>\n",
       "<table border=\"1\" class=\"dataframe\">\n",
       "  <thead>\n",
       "    <tr>\n",
       "      <th></th>\n",
       "      <th></th>\n",
       "      <th colspan=\"3\" halign=\"left\">val1</th>\n",
       "      <th colspan=\"3\" halign=\"left\">val2</th>\n",
       "    </tr>\n",
       "    <tr>\n",
       "      <th></th>\n",
       "      <th></th>\n",
       "      <th>median</th>\n",
       "      <th>mean</th>\n",
       "      <th>std</th>\n",
       "      <th>median</th>\n",
       "      <th>mean</th>\n",
       "      <th>std</th>\n",
       "    </tr>\n",
       "    <tr>\n",
       "      <th>cat1</th>\n",
       "      <th>cat2</th>\n",
       "      <th></th>\n",
       "      <th></th>\n",
       "      <th></th>\n",
       "      <th></th>\n",
       "      <th></th>\n",
       "      <th></th>\n",
       "    </tr>\n",
       "  </thead>\n",
       "  <tbody>\n",
       "    <tr>\n",
       "      <th rowspan=\"2\" valign=\"top\">a</th>\n",
       "      <th>c</th>\n",
       "      <td>4.0</td>\n",
       "      <td>4.0</td>\n",
       "      <td>2.828427</td>\n",
       "      <td>5.0</td>\n",
       "      <td>5.0</td>\n",
       "      <td>2.828427</td>\n",
       "    </tr>\n",
       "    <tr>\n",
       "      <th>d</th>\n",
       "      <td>12.0</td>\n",
       "      <td>12.0</td>\n",
       "      <td>2.828427</td>\n",
       "      <td>13.0</td>\n",
       "      <td>13.0</td>\n",
       "      <td>2.828427</td>\n",
       "    </tr>\n",
       "    <tr>\n",
       "      <th rowspan=\"2\" valign=\"top\">b</th>\n",
       "      <th>c</th>\n",
       "      <td>20.0</td>\n",
       "      <td>20.0</td>\n",
       "      <td>2.828427</td>\n",
       "      <td>21.0</td>\n",
       "      <td>21.0</td>\n",
       "      <td>2.828427</td>\n",
       "    </tr>\n",
       "    <tr>\n",
       "      <th>d</th>\n",
       "      <td>28.0</td>\n",
       "      <td>28.0</td>\n",
       "      <td>2.828427</td>\n",
       "      <td>29.0</td>\n",
       "      <td>29.0</td>\n",
       "      <td>2.828427</td>\n",
       "    </tr>\n",
       "  </tbody>\n",
       "</table>\n",
       "</div>"
      ],
      "text/plain": [
       "            val1                   val2                \n",
       "          median  mean       std median  mean       std\n",
       "cat1 cat2                                              \n",
       "a    c       4.0   4.0  2.828427    5.0   5.0  2.828427\n",
       "     d      12.0  12.0  2.828427   13.0  13.0  2.828427\n",
       "b    c      20.0  20.0  2.828427   21.0  21.0  2.828427\n",
       "     d      28.0  28.0  2.828427   29.0  29.0  2.828427"
      ]
     },
     "execution_count": 2,
     "metadata": {},
     "output_type": "execute_result"
    }
   ],
   "source": [
    "split_vars = ['cat1', 'cat2'] \n",
    "apply_vars = ['val1', 'val2']\n",
    "apply_fcts = ['median', 'mean', 'std']\n",
    "combined = df.groupby(split_vars)[apply_vars].agg(apply_fcts)\n",
    "combined"
   ]
  },
  {
   "cell_type": "markdown",
   "metadata": {
    "slideshow": {
     "slide_type": "slide"
    }
   },
   "source": [
    "# Something Is Wrong When I Use Split-Apply-Combine (III/III)\n",
    "\n",
    "*But now I have a multiindex... How do I access a given value?*"
   ]
  },
  {
   "cell_type": "markdown",
   "metadata": {
    "slideshow": {
     "slide_type": "fragment"
    }
   },
   "source": [
    "What you can do is to use a tuple-like structure:"
   ]
  },
  {
   "cell_type": "code",
   "execution_count": 3,
   "metadata": {
    "slideshow": {
     "slide_type": "-"
    }
   },
   "outputs": [
    {
     "data": {
      "text/plain": [
       "12.0"
      ]
     },
     "execution_count": 3,
     "metadata": {},
     "output_type": "execute_result"
    }
   ],
   "source": [
    "combined.loc[('a', 'd'), ('val1', 'median')]"
   ]
  },
  {
   "cell_type": "markdown",
   "metadata": {
    "slideshow": {
     "slide_type": "slide"
    }
   },
   "source": [
    "## I Cannot Delete Duplicates... (I/III)\n",
    "\n",
    "When you make apply (chains of) methods, it may seem that the changes that you make are temporary..."
   ]
  },
  {
   "cell_type": "code",
   "execution_count": 4,
   "metadata": {},
   "outputs": [
    {
     "data": {
      "text/html": [
       "<div>\n",
       "<style scoped>\n",
       "    .dataframe tbody tr th:only-of-type {\n",
       "        vertical-align: middle;\n",
       "    }\n",
       "\n",
       "    .dataframe tbody tr th {\n",
       "        vertical-align: top;\n",
       "    }\n",
       "\n",
       "    .dataframe thead th {\n",
       "        text-align: right;\n",
       "    }\n",
       "</style>\n",
       "<table border=\"1\" class=\"dataframe\">\n",
       "  <thead>\n",
       "    <tr style=\"text-align: right;\">\n",
       "      <th></th>\n",
       "      <th>one</th>\n",
       "      <th>two</th>\n",
       "      <th>three</th>\n",
       "      <th>four</th>\n",
       "    </tr>\n",
       "  </thead>\n",
       "  <tbody>\n",
       "    <tr>\n",
       "      <th>0</th>\n",
       "      <td>0</td>\n",
       "      <td>1</td>\n",
       "      <td>2</td>\n",
       "      <td>3</td>\n",
       "    </tr>\n",
       "    <tr>\n",
       "      <th>1</th>\n",
       "      <td>?</td>\n",
       "      <td>5</td>\n",
       "      <td>6</td>\n",
       "      <td>?</td>\n",
       "    </tr>\n",
       "    <tr>\n",
       "      <th>2</th>\n",
       "      <td>8</td>\n",
       "      <td>9</td>\n",
       "      <td>10</td>\n",
       "      <td>11</td>\n",
       "    </tr>\n",
       "    <tr>\n",
       "      <th>3</th>\n",
       "      <td>?</td>\n",
       "      <td>13</td>\n",
       "      <td>14</td>\n",
       "      <td>?</td>\n",
       "    </tr>\n",
       "  </tbody>\n",
       "</table>\n",
       "</div>"
      ],
      "text/plain": [
       "  one  two  three four\n",
       "0   0    1      2    3\n",
       "1   ?    5      6    ?\n",
       "2   8    9     10   11\n",
       "3   ?   13     14    ?"
      ]
     },
     "execution_count": 4,
     "metadata": {},
     "output_type": "execute_result"
    }
   ],
   "source": [
    "import numpy as np\n",
    "import pandas as pd\n",
    "\n",
    "df = pd.DataFrame(np.arange(16).reshape(4,4), columns = [\"one\", \"two\", \"three\", \"four\"])\n",
    "df.loc[[1, 3], [\"one\", \"four\"]] = '?'\n",
    "\n",
    "df.replace('?', np.NaN).dropna()\n",
    "df"
   ]
  },
  {
   "cell_type": "markdown",
   "metadata": {
    "slideshow": {
     "slide_type": "slide"
    }
   },
   "source": [
    "## I Cannot Delete Duplicates... (II/III)\n",
    "\n",
    "Problem: Whenever you apply a (method) to a dataframe and modify it, the new dataframe will not exist (outside the memory) until you assign it to something."
   ]
  },
  {
   "cell_type": "code",
   "execution_count": 5,
   "metadata": {},
   "outputs": [
    {
     "data": {
      "text/html": [
       "<div>\n",
       "<style scoped>\n",
       "    .dataframe tbody tr th:only-of-type {\n",
       "        vertical-align: middle;\n",
       "    }\n",
       "\n",
       "    .dataframe tbody tr th {\n",
       "        vertical-align: top;\n",
       "    }\n",
       "\n",
       "    .dataframe thead th {\n",
       "        text-align: right;\n",
       "    }\n",
       "</style>\n",
       "<table border=\"1\" class=\"dataframe\">\n",
       "  <thead>\n",
       "    <tr style=\"text-align: right;\">\n",
       "      <th></th>\n",
       "      <th>one</th>\n",
       "      <th>two</th>\n",
       "      <th>three</th>\n",
       "      <th>four</th>\n",
       "    </tr>\n",
       "  </thead>\n",
       "  <tbody>\n",
       "    <tr>\n",
       "      <th>0</th>\n",
       "      <td>0.0</td>\n",
       "      <td>1</td>\n",
       "      <td>2</td>\n",
       "      <td>3.0</td>\n",
       "    </tr>\n",
       "    <tr>\n",
       "      <th>2</th>\n",
       "      <td>8.0</td>\n",
       "      <td>9</td>\n",
       "      <td>10</td>\n",
       "      <td>11.0</td>\n",
       "    </tr>\n",
       "  </tbody>\n",
       "</table>\n",
       "</div>"
      ],
      "text/plain": [
       "   one  two  three  four\n",
       "0  0.0    1      2   3.0\n",
       "2  8.0    9     10  11.0"
      ]
     },
     "execution_count": 5,
     "metadata": {},
     "output_type": "execute_result"
    }
   ],
   "source": [
    "df = pd.DataFrame(np.arange(16).reshape(4,4), columns = [\"one\", \"two\", \"three\", \"four\"])\n",
    "df.loc[[1, 3], [\"one\", \"four\"]] = '?'\n",
    "\n",
    "df_new = df.replace('?', np.NaN).dropna().copy()\n",
    "df_new"
   ]
  },
  {
   "cell_type": "markdown",
   "metadata": {
    "slideshow": {
     "slide_type": "slide"
    }
   },
   "source": [
    "## I Cannot Delete Duplicates... (III/III)\n",
    "\n",
    "Sometimes, the `inplace` argument can also be of use..."
   ]
  },
  {
   "cell_type": "code",
   "execution_count": 6,
   "metadata": {},
   "outputs": [
    {
     "data": {
      "text/html": [
       "<div>\n",
       "<style scoped>\n",
       "    .dataframe tbody tr th:only-of-type {\n",
       "        vertical-align: middle;\n",
       "    }\n",
       "\n",
       "    .dataframe tbody tr th {\n",
       "        vertical-align: top;\n",
       "    }\n",
       "\n",
       "    .dataframe thead th {\n",
       "        text-align: right;\n",
       "    }\n",
       "</style>\n",
       "<table border=\"1\" class=\"dataframe\">\n",
       "  <thead>\n",
       "    <tr style=\"text-align: right;\">\n",
       "      <th></th>\n",
       "      <th>one</th>\n",
       "      <th>two</th>\n",
       "      <th>three</th>\n",
       "      <th>four</th>\n",
       "    </tr>\n",
       "  </thead>\n",
       "  <tbody>\n",
       "    <tr>\n",
       "      <th>0</th>\n",
       "      <td>0.0</td>\n",
       "      <td>1</td>\n",
       "      <td>2</td>\n",
       "      <td>3.0</td>\n",
       "    </tr>\n",
       "    <tr>\n",
       "      <th>1</th>\n",
       "      <td>NaN</td>\n",
       "      <td>5</td>\n",
       "      <td>6</td>\n",
       "      <td>NaN</td>\n",
       "    </tr>\n",
       "    <tr>\n",
       "      <th>2</th>\n",
       "      <td>8.0</td>\n",
       "      <td>9</td>\n",
       "      <td>10</td>\n",
       "      <td>11.0</td>\n",
       "    </tr>\n",
       "    <tr>\n",
       "      <th>3</th>\n",
       "      <td>NaN</td>\n",
       "      <td>13</td>\n",
       "      <td>14</td>\n",
       "      <td>NaN</td>\n",
       "    </tr>\n",
       "  </tbody>\n",
       "</table>\n",
       "</div>"
      ],
      "text/plain": [
       "   one  two  three  four\n",
       "0  0.0    1      2   3.0\n",
       "1  NaN    5      6   NaN\n",
       "2  8.0    9     10  11.0\n",
       "3  NaN   13     14   NaN"
      ]
     },
     "execution_count": 6,
     "metadata": {},
     "output_type": "execute_result"
    }
   ],
   "source": [
    "df.replace('?', np.NaN, inplace = True)\n",
    "df"
   ]
  },
  {
   "cell_type": "markdown",
   "metadata": {
    "slideshow": {
     "slide_type": "slide"
    }
   },
   "source": [
    "# Overview of Session 5\n",
    "\n",
    "Today, we will work with strings, requests and APIs. In particular, we will cover:\n",
    "1. Text as Data:\n",
    "    - What is a string, and how do we work with it?\n",
    "    - What kinds of text data does there exist?\n",
    "2. Key Based Containers:\n",
    "    - What is a dictionary, and how is this different from lists and tuples?\n",
    "    - When are dictionaries useful, and how do we work with them?\n",
    "3. Interacting with the Web:\n",
    "    - What is HTTP and HTML?\n",
    "    - What is an API, and how do interact with it?\n",
    "4. Leveraging APIs:\n",
    "    - What kinds of data can be extracted via an API?\n",
    "    - How do we translate an API into useful data?"
   ]
  },
  {
   "cell_type": "markdown",
   "metadata": {
    "slideshow": {
     "slide_type": "slide"
    }
   },
   "source": [
    "# Associated Readings"
   ]
  },
  {
   "cell_type": "markdown",
   "metadata": {
    "slideshow": {
     "slide_type": "fragment"
    }
   },
   "source": [
    "PDA:\n",
    "- Section 2.3: How to work with strings in Python\n",
    "- Section 3.3: Opening text files, interpreting characters\n",
    "- Section 6.1: Opening and working with CSV files\n",
    "- Section 6.3: Intro to interacting with APIs\n",
    "- Section 7.3: Manipulating strings"
   ]
  },
  {
   "cell_type": "markdown",
   "metadata": {
    "slideshow": {
     "slide_type": "fragment"
    }
   },
   "source": [
    "Gazarov (2016): \"What is an API? In English, please.\"\n",
    "- Excellent and easily understood intro to the concept\n",
    "- Examples of different 'types' of APIs\n",
    "- Intro to the concepts of servers, clients and HTML"
   ]
  },
  {
   "cell_type": "markdown",
   "metadata": {
    "slideshow": {
     "slide_type": "slide"
    }
   },
   "source": [
    "# Text as Data"
   ]
  },
  {
   "cell_type": "markdown",
   "metadata": {
    "slideshow": {
     "slide_type": "slide"
    }
   },
   "source": [
    "## Why Text Data\n",
    "\n",
    "Data is everywhere... and collection is taking speed! \n",
    "- Personal devices and [what we have at home](https://www.nytimes.com/wirecutter/blog/amazons-alexa-never-stops-listening-to-you/)\n",
    "- Online in terms of news websites, wikipedia, social media, blogs, document archives \n",
    "\n",
    "Working with text data opens up interesting new avenues for analysis and research. Some cool examples:\n",
    "  - Text analysis, topic modelling and monetary policy:\n",
    "      - [Transparency and shifts in deliberation about monetary policy](https://sekhansen.github.io/pdf_files/qje_2018.pdf)\n",
    "      - [Narrative signals about uncertainty in inflation reports drive long-run outcomes](https://sekhansen.github.io/pdf_files/jme_2019.pdf)\n",
    "  - [More partisanship (polarization) in congressional speeches](https://www.brown.edu/Research/Shapiro/pdfs/politext.pdf)"
   ]
  },
  {
   "cell_type": "markdown",
   "metadata": {
    "slideshow": {
     "slide_type": "slide"
    }
   },
   "source": [
    "## How Text Data\n",
    "\n",
    "Data from the web often come in HTML or other text format\n",
    "\n",
    "In this course, you will get tools to do basic work with text as data.\n",
    "\n",
    "However, in order to do that:\n",
    "\n",
    "- learn how to manipulate and save strings\n",
    "- save our text data in smart ways (JSON)\n",
    "- interact with the web"
   ]
  },
  {
   "cell_type": "markdown",
   "metadata": {
    "slideshow": {
     "slide_type": "slide"
    }
   },
   "source": [
    "## Videos and Exercises\n",
    "\n",
    "Now proceed to the notebook with videos and exercises, where you will first learn a bit about string operations and different non-sequantial containers. Then we proceed and you will get an opportunity to interact with the web.\n",
    "\n",
    "The structure of the notebook is as follows:\n",
    "1. String Operations:\n",
    "    - Common string operations...\n",
    "    - ... more string operations...\n",
    "    - ... and warm-up exercises\n",
    "2. Saving as Text File\n",
    "3. Python Containers and Dictionaries\n",
    "4. Python and the Web\n",
    "    - Application Programming Interface (API)\n",
    "    - The Punk API\n",
    "    - The API for Statistics Denmark"
   ]
  },
  {
   "cell_type": "markdown",
   "metadata": {
    "slideshow": {
     "slide_type": "slide"
    }
   },
   "source": [
    "# Video 5.1: Key Based Containers"
   ]
  },
  {
   "cell_type": "markdown",
   "metadata": {
    "slideshow": {
     "slide_type": "slide"
    }
   },
   "source": [
    "## Containers Recap (I/II)\n",
    "\n",
    "*What are containers? Which have we seen?*"
   ]
  },
  {
   "cell_type": "markdown",
   "metadata": {
    "slideshow": {
     "slide_type": "fragment"
    }
   },
   "source": [
    "Sequential containers:\n",
    "- `list` which we can modify (**mutable**).\n",
    "    - useful to collect data on the go\n",
    "- `tuple` which is after initial assignment **immutable**\n",
    "     - tuples are faster as they can do less things\n",
    "- `array` \n",
    "    - which is mutable in content (i.e. we can change elements)\n",
    "    - but immutable in size\n",
    "    - great for data analysis"
   ]
  },
  {
   "cell_type": "markdown",
   "metadata": {
    "slideshow": {
     "slide_type": "slide"
    }
   },
   "source": [
    "## Containers Recap (II/II)"
   ]
  },
  {
   "cell_type": "markdown",
   "metadata": {
    "slideshow": {
     "slide_type": "fragment"
    }
   },
   "source": [
    "Non-sequential containers:\n",
    "- Dictionaries (`dict`) which are accessed by keys (immutable objects).\n",
    "- Sets (`set`) where elements are\n",
    "    - unique (no duplicates) \n",
    "    - not ordered\n",
    "    - disadvantage: cannot access specific elements!"
   ]
  },
  {
   "cell_type": "markdown",
   "metadata": {
    "slideshow": {
     "slide_type": "slide"
    }
   },
   "source": [
    "## Dictionaries Recap (I/II)\n",
    "\n",
    "*How did we make a container which is accessed by arbitrary keys?*"
   ]
  },
  {
   "cell_type": "markdown",
   "metadata": {
    "slideshow": {
     "slide_type": "fragment"
    }
   },
   "source": [
    "By using a dictionary, `dict`. Simple way of constructing a `dict`:"
   ]
  },
  {
   "cell_type": "code",
   "execution_count": 7,
   "metadata": {
    "slideshow": {
     "slide_type": "-"
    }
   },
   "outputs": [],
   "source": [
    "my_dict = {'Andreas': 'Assistant Professor',\n",
    "           'Joachim': 'PhD Fellow',\n",
    "           'Nicklas': 'PhD Fellow',\n",
    "           'Terne': 'PhD Fellow'}"
   ]
  },
  {
   "cell_type": "code",
   "execution_count": 8,
   "metadata": {
    "slideshow": {
     "slide_type": "-"
    }
   },
   "outputs": [
    {
     "name": "stdout",
     "output_type": "stream",
     "text": [
      "PhD Fellow\n"
     ]
    }
   ],
   "source": [
    "print(my_dict['Joachim'])"
   ]
  },
  {
   "cell_type": "code",
   "execution_count": 9,
   "metadata": {
    "slideshow": {
     "slide_type": "-"
    }
   },
   "outputs": [
    {
     "name": "stdout",
     "output_type": "stream",
     "text": [
      "1000\n"
     ]
    }
   ],
   "source": [
    "my_new_dict = {}\n",
    "for a in range(0,100):\n",
    "    my_new_dict[\"cube%s\" %a] = a**3\n",
    "    \n",
    "print(my_new_dict['cube10'])"
   ]
  },
  {
   "cell_type": "markdown",
   "metadata": {
    "slideshow": {
     "slide_type": "slide"
    }
   },
   "source": [
    "## Dictionaries Recap (II/II)\n",
    "\n",
    "Dictionaries can also be constructed from two associated lists. These are tied together with the `zip` function. Try the following code:"
   ]
  },
  {
   "cell_type": "code",
   "execution_count": 10,
   "metadata": {
    "slideshow": {
     "slide_type": "-"
    }
   },
   "outputs": [
    {
     "name": "stdout",
     "output_type": "stream",
     "text": [
      "[('a', 2), ('b', 3), ('c', 4)]\n"
     ]
    }
   ],
   "source": [
    "keys = ['a', 'b', 'c']\n",
    "values = range(2,5)\n",
    "\n",
    "key_value_pairs = list(zip(keys, values))\n",
    "print(key_value_pairs) #Print as a list of tuples"
   ]
  },
  {
   "cell_type": "code",
   "execution_count": 11,
   "metadata": {
    "scrolled": true,
    "slideshow": {
     "slide_type": "-"
    }
   },
   "outputs": [
    {
     "name": "stdout",
     "output_type": "stream",
     "text": [
      "{'a': 2, 'b': 3, 'c': 4}\n"
     ]
    }
   ],
   "source": [
    "my_dict2 = dict(key_value_pairs)\n",
    "print(my_dict2) #Print dictionary"
   ]
  },
  {
   "cell_type": "code",
   "execution_count": 12,
   "metadata": {},
   "outputs": [
    {
     "name": "stdout",
     "output_type": "stream",
     "text": [
      "2\n"
     ]
    }
   ],
   "source": [
    "print(my_dict2['a']) #Fetch the value associated with 'a'"
   ]
  },
  {
   "cell_type": "markdown",
   "metadata": {
    "slideshow": {
     "slide_type": "slide"
    }
   },
   "source": [
    "## Storing Containers\n",
    "\n",
    "*Does there exist a file format for easy storage of containers?*"
   ]
  },
  {
   "cell_type": "markdown",
   "metadata": {
    "slideshow": {
     "slide_type": "fragment"
    }
   },
   "source": [
    "Yes, the JSON file format.\n",
    "- Can store lists and dictionaries.\n",
    "- Syntax is the same as Python lists and dictionaries - only add quotation marks. \n",
    "    - Example: `'{\"a\":1,\"b\":1}'`"
   ]
  },
  {
   "cell_type": "markdown",
   "metadata": {
    "slideshow": {
     "slide_type": "fragment"
    }
   },
   "source": [
    "*Why is JSON so useful?*"
   ]
  },
  {
   "cell_type": "markdown",
   "metadata": {
    "slideshow": {
     "slide_type": "fragment"
    }
   },
   "source": [
    "- Standard format that looks exactly like Python.\n",
    "- Extreme flexibility:\n",
    "    - Can hold any list or dictionary of any depth which contains only float, int, str.\n",
    "    - Does not work well with other formats, but normally holds any structured data.\n",
    "        - Extension to spatial data: GeoJSON"
   ]
  },
  {
   "cell_type": "markdown",
   "metadata": {
    "slideshow": {
     "slide_type": "slide"
    }
   },
   "source": [
    "# VIDEO 5.2: Interacting with the Web"
   ]
  },
  {
   "cell_type": "markdown",
   "metadata": {
    "slideshow": {
     "slide_type": "slide"
    }
   },
   "source": [
    "## The Internet as Data (I/II)\n",
    "\n",
    "When we surf around the internet we are exposed to a wealth of information."
   ]
  },
  {
   "cell_type": "markdown",
   "metadata": {
    "slideshow": {
     "slide_type": "fragment"
    }
   },
   "source": [
    "- What if we could take this and analyze it?"
   ]
  },
  {
   "cell_type": "markdown",
   "metadata": {
    "slideshow": {
     "slide_type": "fragment"
    }
   },
   "source": [
    "Well, we can. And we will. "
   ]
  },
  {
   "cell_type": "markdown",
   "metadata": {
    "slideshow": {
     "slide_type": "fragment"
    }
   },
   "source": [
    "Examples: Facebook, Twitter, Reddit, Wikipedia, Airbnb etc."
   ]
  },
  {
   "cell_type": "markdown",
   "metadata": {
    "slideshow": {
     "slide_type": "slide"
    }
   },
   "source": [
    "## The Internet as Data (II/II)\n",
    "\n",
    "Sometimes we get lucky. The data is served to us."
   ]
  },
  {
   "cell_type": "markdown",
   "metadata": {
    "slideshow": {
     "slide_type": "fragment"
    }
   },
   "source": [
    "- The data is provided as an `API` service (today)\n",
    "- The data can extracted by queries on underlying tables (scraping sessions). However, often we need to do the work ourselves:\n",
    "    - We need to explore the structure of the webpage we are interested in\n",
    "    - We can extract relevant elements \n"
   ]
  },
  {
   "cell_type": "markdown",
   "metadata": {
    "slideshow": {
     "slide_type": "slide"
    }
   },
   "source": [
    "## Web Interactions\n",
    "\n",
    "In the words of Gazarov (2016): The web can be seen as a large network of connected servers\n",
    "- A page on the internet is stored somewhere on a remote server\n",
    "    - Remote server $\\sim$ remotely located computer that is optimized to process requests"
   ]
  },
  {
   "cell_type": "markdown",
   "metadata": {
    "slideshow": {
     "slide_type": "fragment"
    }
   },
   "source": [
    "- When accessing a web page through browser:\n",
    "    - Your browser (the *client*) sends a request to the website's server\n",
    "    - The server then sends code back to the browser\n",
    "    - This code is interpreted by the browser and displayed\n"
   ]
  },
  {
   "cell_type": "markdown",
   "metadata": {
    "slideshow": {
     "slide_type": "fragment"
    }
   },
   "source": [
    "- Websites come in the form of HTML $-$ APIs only contain data (often in *JSON* format) without presentational overhead"
   ]
  },
  {
   "cell_type": "markdown",
   "metadata": {
    "slideshow": {
     "slide_type": "slide"
    }
   },
   "source": [
    "## The Web Protocol\n",
    "*What is `http` and where is it used?*"
   ]
  },
  {
   "cell_type": "markdown",
   "metadata": {
    "slideshow": {
     "slide_type": "fragment"
    }
   },
   "source": [
    "- `http` stands for HyperText Transfer Protocol.\n",
    "- `http` is good for transmitting the data when a webpage is visited:\n",
    "   - the visiting client sends request for URL or object;\n",
    "   - the server returns relevant data if active."
   ]
  },
  {
   "cell_type": "markdown",
   "metadata": {
    "slideshow": {
     "slide_type": "fragment"
    }
   },
   "source": [
    "*Should we care about `http`?*"
   ]
  },
  {
   "cell_type": "markdown",
   "metadata": {
    "slideshow": {
     "slide_type": "fragment"
    }
   },
   "source": [
    "- In this course we ***do not*** care explicitly about `http`. \n",
    "- We use a Python module called `requests` as a `http` interface.\n",
    "- However... Some useful advice - you should **always**:\n",
    "  - use the encrypted version, `https`;\n",
    "  - use authenticated connection, i.e. private login, whenever possible."
   ]
  },
  {
   "cell_type": "markdown",
   "metadata": {
    "slideshow": {
     "slide_type": "slide"
    }
   },
   "source": [
    "## Markup Language\n",
    "*What is `html` and where is it used?*"
   ]
  },
  {
   "cell_type": "markdown",
   "metadata": {
    "slideshow": {
     "slide_type": "fragment"
    }
   },
   "source": [
    "- HyperText Markup Lanugage\n",
    "- `html` is a language for communicating how a webpage looks like and behaves.\n",
    "  - That is, `html` contains: content, design, available actions."
   ]
  },
  {
   "cell_type": "markdown",
   "metadata": {
    "slideshow": {
     "slide_type": "fragment"
    }
   },
   "source": [
    "*Should we care about `html`?*"
   ]
  },
  {
   "cell_type": "markdown",
   "metadata": {
    "slideshow": {
     "slide_type": "fragment"
    }
   },
   "source": [
    "- Yes, `html` is often where the interesting data can be found.\n",
    "- Sometimes, we are lucky, and instead of `html` we get a JSON in return. \n",
    "- Getting data from `html` will the topic of the subsequent scraping sessions."
   ]
  },
  {
   "cell_type": "markdown",
   "metadata": {
    "slideshow": {
     "slide_type": "slide"
    }
   },
   "source": [
    "# VIDEO 5.3: Leveraging APIs "
   ]
  },
  {
   "cell_type": "markdown",
   "metadata": {
    "slideshow": {
     "slide_type": "slide"
    }
   },
   "source": [
    "## Web APIs (I/IV)\n",
    "*So when do we get lucky, i.e. when is `html` not important?*"
   ]
  },
  {
   "cell_type": "markdown",
   "metadata": {
    "slideshow": {
     "slide_type": "fragment"
    }
   },
   "source": [
    "- When we get a Application Programming Interface (`API`) on the web\n",
    "- What does this mean?\n",
    "  - We send a query to the Web API \n",
    "  - We get a response from the Web API with data back in return, typically as JSON.\n",
    "  - The API usually provides access to a database or some service"
   ]
  },
  {
   "cell_type": "markdown",
   "metadata": {
    "slideshow": {
     "slide_type": "slide"
    }
   },
   "source": [
    "## Web APIs (II/IV)\n",
    "*So where is the API?*"
   ]
  },
  {
   "cell_type": "markdown",
   "metadata": {
    "slideshow": {
     "slide_type": "fragment"
    }
   },
   "source": [
    "- Usually on separate sub-domain, e.g. `api.github.com`\n",
    "- Sometimes hidden in code (see sessions on scraping) "
   ]
  },
  {
   "cell_type": "markdown",
   "metadata": {
    "slideshow": {
     "slide_type": "fragment"
    }
   },
   "source": [
    "*So how do we know how the API works?*"
   ]
  },
  {
   "cell_type": "markdown",
   "metadata": {
    "slideshow": {
     "slide_type": "fragment"
    }
   },
   "source": [
    "- There usually is some documentation. E.g. google [\"api github com\"](https://www.google.com/search?q=api+github)"
   ]
  },
  {
   "cell_type": "markdown",
   "metadata": {
    "slideshow": {
     "slide_type": "slide"
    }
   },
   "source": [
    "## Web APIs (III/IV)\n",
    "*So is data free? As in free lunch?*"
   ]
  },
  {
   "cell_type": "markdown",
   "metadata": {
    "slideshow": {
     "slide_type": "fragment"
    }
   },
   "source": [
    "- Most commercial APIs require authentication and have limited free usage\n",
    "  - e.g. Google Maps, various weather services"
   ]
  },
  {
   "cell_type": "markdown",
   "metadata": {
    "slideshow": {
     "slide_type": "fragment"
    }
   },
   "source": [
    "- Some open APIs that are free\n",
    "  - Danish \n",
    "    - Danish statistics (DST)\n",
    "    - Danish weather data (DMI)\n",
    "    - Danish spatial data (DAWA, danish addresses) \n",
    "  - Global\n",
    "      - OpenStreetMaps, Wikipedia"
   ]
  },
  {
   "cell_type": "markdown",
   "metadata": {
    "slideshow": {
     "slide_type": "fragment"
    }
   },
   "source": [
    "- If no authentication is required the API may be delimited.\n",
    "  - This means only a certain number of requests can be handled per second or per hour from a given IP address."
   ]
  },
  {
   "cell_type": "markdown",
   "metadata": {
    "slideshow": {
     "slide_type": "slide"
    }
   },
   "source": [
    "## Web APIs (IV/IV)\n",
    "*So how do make the URLs?*"
   ]
  },
  {
   "cell_type": "markdown",
   "metadata": {
    "slideshow": {
     "slide_type": "fragment"
    }
   },
   "source": [
    "- An `API` query is a URL consisting of:\n",
    "  - Server URL, e.g. `https://api.github.com`\n",
    "  - Endpoint path, `/users/isdsucph/repos`"
   ]
  },
  {
   "cell_type": "markdown",
   "metadata": {
    "slideshow": {
     "slide_type": "fragment"
    }
   },
   "source": [
    "We can convert a string to JSON with `loads`."
   ]
  },
  {
   "cell_type": "markdown",
   "metadata": {
    "slideshow": {
     "slide_type": "slide"
    }
   },
   "source": [
    "## File Handling\n",
    "*How can we remove a file?*"
   ]
  },
  {
   "cell_type": "markdown",
   "metadata": {
    "slideshow": {
     "slide_type": "fragment"
    }
   },
   "source": [
    "The module `os` can do a lot of file handling tasks, e.g. removing files:"
   ]
  },
  {
   "cell_type": "code",
   "execution_count": 13,
   "metadata": {
    "slideshow": {
     "slide_type": "-"
    }
   },
   "outputs": [
    {
     "ename": "FileNotFoundError",
     "evalue": "[WinError 2] The system cannot find the file specified: 'my_file.json'",
     "output_type": "error",
     "traceback": [
      "\u001b[1;31m---------------------------------------------------------------------------\u001b[0m",
      "\u001b[1;31mFileNotFoundError\u001b[0m                         Traceback (most recent call last)",
      "\u001b[1;32m<ipython-input-13-ac83b0a9f79d>\u001b[0m in \u001b[0;36m<module>\u001b[1;34m\u001b[0m\n\u001b[0;32m      1\u001b[0m \u001b[1;32mimport\u001b[0m \u001b[0mos\u001b[0m\u001b[1;33m\u001b[0m\u001b[1;33m\u001b[0m\u001b[0m\n\u001b[0;32m      2\u001b[0m \u001b[1;33m\u001b[0m\u001b[0m\n\u001b[1;32m----> 3\u001b[1;33m \u001b[0mos\u001b[0m\u001b[1;33m.\u001b[0m\u001b[0mremove\u001b[0m\u001b[1;33m(\u001b[0m\u001b[1;34m'my_file.json'\u001b[0m\u001b[1;33m)\u001b[0m\u001b[1;33m\u001b[0m\u001b[1;33m\u001b[0m\u001b[0m\n\u001b[0m",
      "\u001b[1;31mFileNotFoundError\u001b[0m: [WinError 2] The system cannot find the file specified: 'my_file.json'"
     ]
    }
   ],
   "source": [
    "import os\n",
    "\n",
    "os.remove('my_file.json')"
   ]
  }
 ],
 "metadata": {
  "celltoolbar": "Slideshow",
  "kernelspec": {
   "display_name": "Python 3",
   "language": "python",
   "name": "python3"
  },
  "language_info": {
   "codemirror_mode": {
    "name": "ipython",
    "version": 3
   },
   "file_extension": ".py",
   "mimetype": "text/x-python",
   "name": "python",
   "nbconvert_exporter": "python",
   "pygments_lexer": "ipython3",
   "version": "3.8.5"
  }
 },
 "nbformat": 4,
 "nbformat_minor": 4
}
