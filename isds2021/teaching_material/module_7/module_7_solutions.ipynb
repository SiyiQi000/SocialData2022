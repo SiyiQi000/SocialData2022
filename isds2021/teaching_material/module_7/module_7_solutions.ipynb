{
 "cells": [
  {
   "cell_type": "markdown",
   "metadata": {},
   "source": [
    "> **DO YOU USE GITHUB?**  \n",
    "If True: print('Remember to make your edits in a personal copy of this notebook')  \n",
    "Else: print('You don't have to understand. Continue your life.')"
   ]
  },
  {
   "cell_type": "markdown",
   "metadata": {},
   "source": [
    "# Module 7: Web Scraping 2\n",
    "\n",
    "In module_6 your learned some powerful tricks. Tricks that will work when the data is already shipped in a neat format. However this is often not the case. In this session we shall learn the art of parsing unstructured text and a more principled and advanced method of parsing HTML.\n",
    "\n",
    "This will help you build ***custom datasets*** within just a few hours or days work, that would have taken ***months*** to curate and clean manually.\n",
    "\n",
    "\n",
    "\n",
    "Readings for `module 6+7+8`:\n",
    "- [Python for Data Analysis, chapter 6](https://bedford-computing.co.uk/learning/wp-content/uploads/2015/10/Python-for-Data-Analysis.pdf)\n",
    "- [A Practical Introduction to Web Scraping in Python](https://realpython.com/python-web-scraping-practical-introduction/)\n",
    "- [An introduction to web scraping with Python](https://towardsdatascience.com/an-introduction-to-web-scraping-with-python-a2601e8619e5)\n",
    "- [Introduction to Web Scraping using Selenium](https://medium.com/the-andela-way/introduction-to-web-scraping-using-selenium-7ec377a8cf72)\n",
    "\n",
    "Video materiale from `ISDS 2020`:\n",
    "- [Web Scraping 1](https://bit.ly/ISDS2021_6)\n",
    "- [Web Scraping 2](https://bit.ly/ISDS2021_7)\n",
    "- [Web Scraping 3](https://bit.ly/ISDS2021_8)\n",
    "\n",
    "Other ressources:\n",
    "- [Nicklas Webpage](https://nicklasjohansen.netlify.app/)\n",
    "- [Data Driven Organizational Analysis, Fall 2021](https://efteruddannelse.kurser.ku.dk/course/2021-2022/ASTK18379U)\n",
    "- [Master of Science (MSc) in Social Data Science](https://www.socialdatascience.dk/education)\n"
   ]
  },
  {
   "cell_type": "markdown",
   "metadata": {
    "slideshow": {
     "slide_type": "slide"
    }
   },
   "source": [
    "## Introduction to HTML\n",
    "[What is HTML?](https://www.w3schools.com/whatis/whatis_html.asp)  \n",
    "\n",
    "HTML has a Tree structure. \n",
    "\n",
    "Each node in the tree has:\n",
    "- Children, siblings, parents, descendants. \n",
    "- Ids and attributes\n",
    "\n",
    "<img src=\"http://www.openbookproject.net/tutorials/getdown/css/images/lesson4/HTMLDOMTree.png\"/>\n"
   ]
  },
  {
   "cell_type": "markdown",
   "metadata": {},
   "source": [
    "## Important syntax and patterns\n",
    "_______________\n",
    "```html \n",
    "<p>The p tag indicates a paragraph <p/>\n",
    "```\n",
    "_______________\n",
    "```html \n",
    "<b>The b tag makes the text bold, giving us a clue to its importance </b>\n",
    "```\n",
    "output: <b>The b tag makes the text bold, giving us a clue to its importance </b>\n",
    "```html \n",
    "\n",
    "<em>The em tag emphasize the text</em>, giving us a clue to its importance\n",
    "```\n",
    "output: <em>The em tag makes emphasize the text</em>, giving us a clue to its importance\n",
    "___________\n",
    "```html \n",
    "<h1>h1</h1><h2>h2</h2><h3>h3</h3><b>Headers give similar clues</b>\n",
    "```\n",
    "output:\n",
    "<h1>h1</h1><h2>h2</h2><h3>h3</h3><b>Headers give similar clues</b>  \n",
    "  \n",
    "```html \n",
    "<a href=\"www.google.com\">The a tag creates a hyperlink <a/>\n",
    "```\n",
    "output: <a href=\"www.google.com\">The a tag creates a hyperlink <a/>"
   ]
  },
  {
   "cell_type": "markdown",
   "metadata": {
    "slideshow": {
     "slide_type": "subslide"
    }
   },
   "source": [
    "## How do we find our way around this tree?\n",
    "1. Regex: Extracting string patterns using .split and regular expresssions\n",
    "2. CSS-selectors: Specifying paths using css-selectors, xpath syntax.\n",
    "3. ```BeautifulSoup```: A more powerful, principled and readable way to parse data and navigate HTML"
   ]
  },
  {
   "cell_type": "code",
   "execution_count": 3,
   "metadata": {},
   "outputs": [],
   "source": [
    "import requests\n",
    "from bs4 import BeautifulSoup\n",
    "import re\n",
    "import selenium\n",
    "import time\n",
    "import pandas as pd"
   ]
  },
  {
   "cell_type": "markdown",
   "metadata": {},
   "source": [
    "### Regex\n",
    "- [What is regex?](https://en.wikipedia.org/wiki/Regular_expression)\n",
    "- The brute force way is to parse by convering your downloded matriale into a large string\n",
    "- Now you can create standard string operations\n",
    "- And apply smart regex to identify the data you are looking for e.g. links."
   ]
  },
  {
   "cell_type": "code",
   "execution_count": 23,
   "metadata": {},
   "outputs": [],
   "source": [
    "url = 'https://www.theguardian.com/us-news/2019/aug/14/taco-eating-contest-death-fresno-california'\n",
    "response = requests.get(url)\n",
    "html = response.text\n",
    "#html.split('\\n')\n",
    "#re.findall(\"(?P<url>https?://[^\\s]+)\", html)[0]"
   ]
  },
  {
   "cell_type": "markdown",
   "metadata": {},
   "source": [
    "### CSS Selectors \n",
    "- [What is a CSS Selector?](https://www.w3schools.com/css/css_selectors.asp)\n",
    "- Another way to browse through the HTML tree\n",
    "- Define a unique path to an element in the HTML tree.\n",
    "- It is quick but has to be hardcoded and also more likely to break.\n",
    "- [Nicklas recommend using this free Google Chrome CSS Selector](https://chrome.google.com/webstore/detail/selectorgadget/mhjhnkcfbdhnjickkkdbjoemdmbfginb)"
   ]
  },
  {
   "cell_type": "code",
   "execution_count": 15,
   "metadata": {},
   "outputs": [
    {
     "data": {
      "text/plain": [
       "'Man dies after taco-eating contest in California'"
      ]
     },
     "execution_count": 15,
     "metadata": {},
     "output_type": "execute_result"
    }
   ],
   "source": [
    "url = 'https://www.theguardian.com/us-news/2019/aug/14/taco-eating-contest-death-fresno-california'\n",
    "response = requests.get(url)\n",
    "soup = BeautifulSoup(response.content, 'html.parser')\n",
    "soup.select('.dcr-125vfar')[0].text"
   ]
  },
  {
   "cell_type": "markdown",
   "metadata": {},
   "source": [
    "## Parsing HTML with BeautifulSoup\n",
    "BeautifulSoup makes the html tree navigable. \n",
    "It allows you to:\n",
    "    * Search for elements by tag name and/or by attribute.\n",
    "    * Iterate through them, go up, sideways or down the tree.\n",
    "    * Furthermore it helps you with standard tasks such as extracting raw text from html,\n",
    "    which would be a very tedious task if you had to hardcode it using `.split` commands and using your own regular expressions will be unstable."
   ]
  },
  {
   "cell_type": "code",
   "execution_count": 42,
   "metadata": {},
   "outputs": [],
   "source": [
    "url = 'https://www.theguardian.com/us-news/2019/aug/14/taco-eating-contest-death-fresno-california'\n",
    "response = requests.get(url)\n",
    "html = response.text\n",
    "soup = BeautifulSoup(html,'lxml') # parse the raw html using BeautifoulSoup"
   ]
  },
  {
   "cell_type": "code",
   "execution_count": 30,
   "metadata": {},
   "outputs": [
    {
     "data": {
      "text/plain": [
       "['#maincontent',\n",
       " '#navigation',\n",
       " '/preference/edition/int',\n",
       " '/preference/edition/uk',\n",
       " '/preference/edition/us']"
      ]
     },
     "execution_count": 30,
     "metadata": {},
     "output_type": "execute_result"
    }
   ],
   "source": [
    "# example: finding hyperlinks\n",
    "links = soup.find_all('a') # find all a tags -connoting a hyperlink.\n",
    "[link['href'] for link in links if link.has_attr('href')][0:5] # unpack the hyperlink from the a nodes."
   ]
  },
  {
   "cell_type": "code",
   "execution_count": 33,
   "metadata": {},
   "outputs": [
    {
     "name": "stdout",
     "output_type": "stream",
     "text": [
      "dcr-125vfar : Man dies after taco-eating contest in California\n"
     ]
    }
   ],
   "source": [
    "# example: finding headline\n",
    "headline = soup.find('h1') # search for the first headline: h1 tag. \n",
    "name = headline['class'][0].strip() # use the class attribute name as column name.\n",
    "value = headline.text.strip() # extract text using build in method.\n",
    "print(name,':',value)"
   ]
  },
  {
   "cell_type": "code",
   "execution_count": 60,
   "metadata": {},
   "outputs": [
    {
     "data": {
      "text/plain": [
       "'A man died shortly after competing in a taco-eating contest at a minor league baseball game in California, authorities said Wednesday.Dana Hutchings, 41, of Fresno, died Tuesday night shortly after arriving at a hospital, said Tony Botti, a Fresno sheriff spokesman.An autopsy on Hutchings will be done Thursday to determine a cause of death, Botti said. It was not immediately known how many tacos the man had eaten or whether he had won the contest.Paul Braverman, a spokesman for the Fresno Grizzlies, said in a statement that the team was “devastated to learn” of the fan’s death and that the team would “work closely with local authorities and provide any helpful information that is requested”.Tuesday night’s competition came before Saturday’s World Taco Eating Championship, to be held at Fresno’s annual Taco Truck Throwdown. The team on Wednesday announced that it was canceling that contest.Matthew Boylan, who watched Tuesday’s taco eating contest from his seat in the stadium, told the Fresno Bee he quickly noticed Hutchings because “he was eating so fast compared to the other two [contestants]”.“It was like he’d never eaten before,” Boylan said. “He was just shoving the tacos down his mouth without chewing.”He said Hutchings collapsed and hit his face on a table about seven minutes into the contest, then fell to the ground. The eating contest ended immediately.During the 2018 Taco Eating Championship in Fresno, the professional eater Geoffrey Esper downed 73 tacos in eight minutes, KFSN-TV reported.Competitive-eating contests have become major attractions at festivals and other events. Among the most popular is the annual Nathan’s Famous July Fourth hot dog eating contest on New York’s Coney Island, where Joey Chestnut, this year’s champion, ate 71. Esper finished third. TopicsCalifornianewsReuse this content'"
      ]
     },
     "execution_count": 60,
     "metadata": {},
     "output_type": "execute_result"
    }
   ],
   "source": [
    "# example: finding article_text\n",
    "article_text = soup.findAll('div', {'class':'dcr-185kcx9'})[0]\n",
    "article_text.text"
   ]
  },
  {
   "cell_type": "markdown",
   "metadata": {},
   "source": [
    "Say we are interested in how articles cite sources to back up their story i.e. their hyperlink behaviour within the article, and we want to see if the media has changed their behaviour.\n",
    "\n",
    "We know how to search for links. But the cool part is that we can search from anywhere in the HTML tree. This means that once we have located the article content node - as above - we can search from there. This results in hyperlinks used within the article text.\n"
   ]
  },
  {
   "cell_type": "code",
   "execution_count": 65,
   "metadata": {},
   "outputs": [
    {
     "name": "stdout",
     "output_type": "stream",
     "text": [
      "https://www.theguardian.com/us-news/california\n",
      "https://www.theguardian.com/us-news/gallery/2016/jul/04/nathans-famous-hotdog-eating-contest-in-pictures\n"
     ]
    },
    {
     "data": {
      "text/plain": [
       "['https://www.theguardian.com/us-news/california',\n",
       " 'https://www.theguardian.com/us-news/gallery/2016/jul/04/nathans-famous-hotdog-eating-contest-in-pictures']"
      ]
     },
     "execution_count": 65,
     "metadata": {},
     "output_type": "execute_result"
    }
   ],
   "source": [
    "# example: finding citation links\n",
    "citations = article_text.findAll('a')\n",
    "\n",
    "citation_links = [] # define container to the hyperlinks\n",
    "for citation in citations: # iterate through each citation node\n",
    "    if citation.has_attr('data-link-name'): # check if it has the right attribute\n",
    "        if citation['data-link-name'] =='in body link': # and if the value of that attribute is correct\n",
    "            print(citation['href'])\n",
    "            citation_links.append(citation['href']) #  add link to the container\n",
    "\n",
    "citation_links"
   ]
  },
  {
   "cell_type": "markdown",
   "metadata": {},
   "source": [
    "## Creating a dataset from www.bold.dk\n",
    "\n",
    "### Let's put together some of the stuff we have learned so far\n",
    "1. **Investigate:** In this example we will try to investigate the website to uderstand its structure. \n",
    "2. **Mapping:** Then we will try to collect all the urls and save them into a list\n",
    "3. **Parsing:** At last, we will try to collect the information in each url in a simpel loop.\n",
    "\n",
    "#### First, we pay around with the site trying to understand its structure"
   ]
  },
  {
   "cell_type": "code",
   "execution_count": 102,
   "metadata": {},
   "outputs": [
    {
     "name": "stdout",
     "output_type": "stream",
     "text": [
      "PSV-anfører vil ikke kalde FCM en walkover\n",
      "\n",
      "22:30\n",
      "https://www.bold.dk/fodbold/nyheder/psv-anfoerer-vil-ikke-kalde-fcm-en-walkover/\n"
     ]
    }
   ],
   "source": [
    "# define our URL\n",
    "url = 'https://www.bold.dk/' \n",
    "\n",
    "# connects to site\n",
    "response = requests.get(url)\n",
    "\n",
    "# parse data with BeautifulSoup\n",
    "soup = BeautifulSoup(response.text,'lxml') # parse the HTML\n",
    "\n",
    "#identify articles to scrape by inspecting site\n",
    "articles = soup.find_all('div',{'class':'news_list_item'}) # search for the ul node\n",
    "\n",
    "# checking if articles match website\n",
    "for i in range(1):\n",
    "    print(articles[i].text.strip())\n",
    "\n",
    "# identifying how to find an url from an article\n",
    "article_url = articles[0].attrs['data-vr-contentbox-url']\n",
    "print(article_url)"
   ]
  },
  {
   "cell_type": "code",
   "execution_count": 103,
   "metadata": {},
   "outputs": [
    {
     "data": {
      "text/plain": [
       "<div article_id=\"389113\" class=\"news_list_item\" data-vr-contentbox=\"#1\" data-vr-contentbox-url=\"https://www.bold.dk/fodbold/nyheder/psv-anfoerer-vil-ikke-kalde-fcm-en-walkover/\" id=\"news_list_item_389113\" position=\"1\" tag_ids=\"246753,7968,8280\">\n",
       "<div class=\"checkbox ball no_text_select\" style=\"margin:7px 6px 3px 2px\">\n",
       "<img class=\"unchecked\" src=\"https://s3.eu-central-1.amazonaws.com/static.bold.dk/img/sprites/newslist_checkbox_20x40.png\"/>\n",
       "</div>\n",
       "<a class=\"title\" href=\"/fodbold/nyheder/psv-anfoerer-vil-ikke-kalde-fcm-en-walkover/\"><span data-vr-headline=\"\">PSV-anfører vil ikke kalde FCM en walkover</span>\n",
       "<img src=\"https://s3.eu-central-1.amazonaws.com/static.bold.dk/img/tag/180x180/8206.png\" style=\"position: absolute;width: 12px;right: 28px;top: 7px;\"/>\n",
       "<span class=\"font9 note-grey\" style=\"right:2px;\">22:30</span>\n",
       "</a>\n",
       "</div>"
      ]
     },
     "execution_count": 103,
     "metadata": {},
     "output_type": "execute_result"
    }
   ],
   "source": [
    "articles[0]"
   ]
  },
  {
   "cell_type": "markdown",
   "metadata": {},
   "source": [
    "#### Second, we create a list of urls that we want to scrape"
   ]
  },
  {
   "cell_type": "code",
   "execution_count": 104,
   "metadata": {},
   "outputs": [
    {
     "name": "stdout",
     "output_type": "stream",
     "text": [
      "https://www.bold.dk/fodbold/nyheder/psv-anfoerer-vil-ikke-kalde-fcm-en-walkover/\n"
     ]
    }
   ],
   "source": [
    "url = 'https://www.bold.dk/' \n",
    "response = requests.get(url)\n",
    "soup = BeautifulSoup(response.text,'lxml')\n",
    "articles = soup.find_all('div',{'class':'news_list_item'})\n",
    "\n",
    "#create an empty list\n",
    "list_of_article_urls = []\n",
    "\n",
    "# creating a loop that appends the article url to the list above\n",
    "for i in range(len(articles)):\n",
    "    list_of_article_urls.append(articles[i].attrs['data-vr-contentbox-url'])\n",
    "\n",
    "#printing the list\n",
    "#list_of_article_urls\n",
    "\n",
    "#printing one example\n",
    "print(list_of_article_urls[0])"
   ]
  },
  {
   "cell_type": "markdown",
   "metadata": {},
   "source": [
    "#### Third, we scrape each site from the url list"
   ]
  },
  {
   "cell_type": "code",
   "execution_count": 142,
   "metadata": {},
   "outputs": [],
   "source": [
    "# this step usually reuqiere a new step of investigation\n",
    "# to figure out what information you want to download\n",
    "# in this example we want the title, the lead and time posted\n",
    "\n",
    "# creatig empty list for the infomation we want to extract for every article\n",
    "h1_list = []\n",
    "lead = []\n",
    "time_posted = []\n",
    "\n",
    "for i in range(10): # 10 #len(list_of_article_urls)\n",
    "    \n",
    "    # this time we scrape for each news article in the url list we created before\n",
    "    url = list_of_article_urls[i]\n",
    "    response = requests.get(url)\n",
    "    soup = BeautifulSoup(response.text,'lxml')\n",
    "    \n",
    "    # pedagogical way of append title to list\n",
    "    temp_1 = soup.find_all('h1')\n",
    "    temp_1 = temp_1[1]\n",
    "    temp_1 = temp_1.text.strip()\n",
    "    h1_list.append(temp_1)\n",
    "    \n",
    "    # how I would actually do it\n",
    "    lead.append(soup.find_all('div',{'class':'lead'})[0].text.strip())\n",
    "    \n",
    "    # sometimes you make wierd things - that works\n",
    "    temp_3 = soup.find_all('time')\n",
    "    temp_3 = temp_3[0]\n",
    "    temp_3 = str(temp_3)[16:32]\n",
    "    time_posted.append(temp_3)"
   ]
  },
  {
   "cell_type": "code",
   "execution_count": 130,
   "metadata": {},
   "outputs": [
    {
     "data": {
      "text/plain": [
       "[<h1 class=\"break_new_headline\"></h1>,\n",
       " <h1>PL-klubber fortsætter knælen i ny sæson</h1>,\n",
       " <h1 class=\"title\">Fodbold - Seneste nyheder</h1>]"
      ]
     },
     "execution_count": 130,
     "metadata": {},
     "output_type": "execute_result"
    }
   ],
   "source": [
    "# h1 \n",
    "soup.find_all('h1')"
   ]
  },
  {
   "cell_type": "code",
   "execution_count": 145,
   "metadata": {},
   "outputs": [
    {
     "data": {
      "text/plain": [
       "<h1>PL-klubber fortsætter knælen i ny sæson</h1>"
      ]
     },
     "execution_count": 145,
     "metadata": {},
     "output_type": "execute_result"
    }
   ],
   "source": [
    "soup.find_all('h1')[1]"
   ]
  },
  {
   "cell_type": "code",
   "execution_count": 146,
   "metadata": {},
   "outputs": [
    {
     "data": {
      "text/plain": [
       "'PL-klubber fortsætter knælen i ny sæson'"
      ]
     },
     "execution_count": 146,
     "metadata": {},
     "output_type": "execute_result"
    }
   ],
   "source": [
    "soup.find_all('h1')[1].text.strip()"
   ]
  },
  {
   "cell_type": "code",
   "execution_count": 144,
   "metadata": {},
   "outputs": [
    {
     "data": {
      "text/plain": [
       "'De 20 Premier League-klubber er blevet enige om at knæle før kickoff i næste sæson også med budskabet om at få racisme ud af fodbolden.'"
      ]
     },
     "execution_count": 144,
     "metadata": {},
     "output_type": "execute_result"
    }
   ],
   "source": [
    "# lead\n",
    "soup.find_all('div',{'class':'lead'})[0].text.strip()"
   ]
  },
  {
   "cell_type": "code",
   "execution_count": 129,
   "metadata": {},
   "outputs": [
    {
     "data": {
      "text/plain": [
       "<time datetime=\"2021-08-03 20:28\">03.08.2021 20:28</time>"
      ]
     },
     "execution_count": 129,
     "metadata": {},
     "output_type": "execute_result"
    }
   ],
   "source": [
    "# time_posted\n",
    "soup.find_all('time')[0]"
   ]
  },
  {
   "cell_type": "markdown",
   "metadata": {},
   "source": [
    "#### Lastly, we put our collected information into a dataframe"
   ]
  },
  {
   "cell_type": "code",
   "execution_count": 143,
   "metadata": {
    "scrolled": true
   },
   "outputs": [
    {
     "data": {
      "text/html": [
       "<div>\n",
       "<style scoped>\n",
       "    .dataframe tbody tr th:only-of-type {\n",
       "        vertical-align: middle;\n",
       "    }\n",
       "\n",
       "    .dataframe tbody tr th {\n",
       "        vertical-align: top;\n",
       "    }\n",
       "\n",
       "    .dataframe thead th {\n",
       "        text-align: right;\n",
       "    }\n",
       "</style>\n",
       "<table border=\"1\" class=\"dataframe\">\n",
       "  <thead>\n",
       "    <tr style=\"text-align: right;\">\n",
       "      <th></th>\n",
       "      <th>title</th>\n",
       "      <th>lead</th>\n",
       "      <th>time</th>\n",
       "    </tr>\n",
       "  </thead>\n",
       "  <tbody>\n",
       "    <tr>\n",
       "      <th>0</th>\n",
       "      <td>PSV-anfører vil ikke kalde FCM en walkover</td>\n",
       "      <td>PSV-anfører Marco van Ginkel vil ikke kalde ka...</td>\n",
       "      <td>2021-08-03 22:30</td>\n",
       "    </tr>\n",
       "    <tr>\n",
       "      <th>1</th>\n",
       "      <td>Gerrard om overtidsmål: Et kæmpe øjeblik</td>\n",
       "      <td>Rangers-manager Steven Gerrard nød at se holde...</td>\n",
       "      <td>2021-08-03 22:06</td>\n",
       "    </tr>\n",
       "    <tr>\n",
       "      <th>2</th>\n",
       "      <td>Onuachu scorede forgæves i Shakhtar-triumf</td>\n",
       "      <td>Paul Onuachu bragte Genk foran, men det var ik...</td>\n",
       "      <td>2021-08-03 21:55</td>\n",
       "    </tr>\n",
       "    <tr>\n",
       "      <th>3</th>\n",
       "      <td>PSV blæste decimerede FCM omkuld</td>\n",
       "      <td>PSV satte et afbudsramt FC Midtjylland-hold på...</td>\n",
       "      <td>2021-08-03 21:52</td>\n",
       "    </tr>\n",
       "    <tr>\n",
       "      <th>4</th>\n",
       "      <td>SLUT: PSV - FCM minut for minut</td>\n",
       "      <td>FC Midtjylland er uden flere profiler, når hol...</td>\n",
       "      <td>2021-08-03 21:47</td>\n",
       "    </tr>\n",
       "    <tr>\n",
       "      <th>5</th>\n",
       "      <td>Ajax belønner 18-årig dansker med ny aftale</td>\n",
       "      <td>Ajax har forlænget kontrakten med deres unge d...</td>\n",
       "      <td>2021-08-03 21:22</td>\n",
       "    </tr>\n",
       "    <tr>\n",
       "      <th>6</th>\n",
       "      <td>Overblik: Disse hold er videre i pokalen</td>\n",
       "      <td>Her får du overblikket over alle tirsdagens re...</td>\n",
       "      <td>2021-08-03 21:10</td>\n",
       "    </tr>\n",
       "    <tr>\n",
       "      <th>7</th>\n",
       "      <td>Fredericia er videre efter vildt pokal-drama</td>\n",
       "      <td>FC Fredericia er videre til anden runde i Sydb...</td>\n",
       "      <td>2021-08-03 20:59</td>\n",
       "    </tr>\n",
       "    <tr>\n",
       "      <th>8</th>\n",
       "      <td>Malmö-triumf: Rieks og AC dukkede Rangers</td>\n",
       "      <td>Søren Rieks scorede, og Anders Christiansen as...</td>\n",
       "      <td>2021-08-03 20:53</td>\n",
       "    </tr>\n",
       "    <tr>\n",
       "      <th>9</th>\n",
       "      <td>PL-klubber fortsætter knælen i ny sæson</td>\n",
       "      <td>De 20 Premier League-klubber er blevet enige o...</td>\n",
       "      <td>2021-08-03 20:28</td>\n",
       "    </tr>\n",
       "  </tbody>\n",
       "</table>\n",
       "</div>"
      ],
      "text/plain": [
       "                                          title  \\\n",
       "0    PSV-anfører vil ikke kalde FCM en walkover   \n",
       "1      Gerrard om overtidsmål: Et kæmpe øjeblik   \n",
       "2    Onuachu scorede forgæves i Shakhtar-triumf   \n",
       "3              PSV blæste decimerede FCM omkuld   \n",
       "4               SLUT: PSV - FCM minut for minut   \n",
       "5   Ajax belønner 18-årig dansker med ny aftale   \n",
       "6      Overblik: Disse hold er videre i pokalen   \n",
       "7  Fredericia er videre efter vildt pokal-drama   \n",
       "8     Malmö-triumf: Rieks og AC dukkede Rangers   \n",
       "9       PL-klubber fortsætter knælen i ny sæson   \n",
       "\n",
       "                                                lead              time  \n",
       "0  PSV-anfører Marco van Ginkel vil ikke kalde ka...  2021-08-03 22:30  \n",
       "1  Rangers-manager Steven Gerrard nød at se holde...  2021-08-03 22:06  \n",
       "2  Paul Onuachu bragte Genk foran, men det var ik...  2021-08-03 21:55  \n",
       "3  PSV satte et afbudsramt FC Midtjylland-hold på...  2021-08-03 21:52  \n",
       "4  FC Midtjylland er uden flere profiler, når hol...  2021-08-03 21:47  \n",
       "5  Ajax har forlænget kontrakten med deres unge d...  2021-08-03 21:22  \n",
       "6  Her får du overblikket over alle tirsdagens re...  2021-08-03 21:10  \n",
       "7  FC Fredericia er videre til anden runde i Sydb...  2021-08-03 20:59  \n",
       "8  Søren Rieks scorede, og Anders Christiansen as...  2021-08-03 20:53  \n",
       "9  De 20 Premier League-klubber er blevet enige o...  2021-08-03 20:28  "
      ]
     },
     "execution_count": 143,
     "metadata": {},
     "output_type": "execute_result"
    }
   ],
   "source": [
    "import pandas as pd\n",
    "df = pd.DataFrame({'title':h1_list, 'lead':lead, 'time':time_posted})\n",
    "df"
   ]
  },
  {
   "cell_type": "code",
   "execution_count": 147,
   "metadata": {
    "scrolled": false
   },
   "outputs": [
    {
     "data": {
      "text/html": [
       "<div>\n",
       "<style scoped>\n",
       "    .dataframe tbody tr th:only-of-type {\n",
       "        vertical-align: middle;\n",
       "    }\n",
       "\n",
       "    .dataframe tbody tr th {\n",
       "        vertical-align: top;\n",
       "    }\n",
       "\n",
       "    .dataframe thead th {\n",
       "        text-align: right;\n",
       "    }\n",
       "</style>\n",
       "<table border=\"1\" class=\"dataframe\">\n",
       "  <thead>\n",
       "    <tr style=\"text-align: right;\">\n",
       "      <th></th>\n",
       "      <th>title</th>\n",
       "      <th>lead</th>\n",
       "      <th>time</th>\n",
       "    </tr>\n",
       "  </thead>\n",
       "  <tbody>\n",
       "    <tr>\n",
       "      <th>0</th>\n",
       "      <td>PSV-anfører vil ikke kalde FCM en walkover</td>\n",
       "      <td>PSV-anfører Marco van Ginkel vil ikke kalde ka...</td>\n",
       "      <td>2021-08-03 22:30</td>\n",
       "    </tr>\n",
       "    <tr>\n",
       "      <th>1</th>\n",
       "      <td>Gerrard om overtidsmål: Et kæmpe øjeblik</td>\n",
       "      <td>Rangers-manager Steven Gerrard nød at se holde...</td>\n",
       "      <td>2021-08-03 22:06</td>\n",
       "    </tr>\n",
       "    <tr>\n",
       "      <th>2</th>\n",
       "      <td>Onuachu scorede forgæves i Shakhtar-triumf</td>\n",
       "      <td>Paul Onuachu bragte Genk foran, men det var ik...</td>\n",
       "      <td>2021-08-03 21:55</td>\n",
       "    </tr>\n",
       "    <tr>\n",
       "      <th>3</th>\n",
       "      <td>PSV blæste decimerede FCM omkuld</td>\n",
       "      <td>PSV satte et afbudsramt FC Midtjylland-hold på...</td>\n",
       "      <td>2021-08-03 21:52</td>\n",
       "    </tr>\n",
       "    <tr>\n",
       "      <th>4</th>\n",
       "      <td>SLUT: PSV - FCM minut for minut</td>\n",
       "      <td>FC Midtjylland er uden flere profiler, når hol...</td>\n",
       "      <td>2021-08-03 21:47</td>\n",
       "    </tr>\n",
       "    <tr>\n",
       "      <th>5</th>\n",
       "      <td>Ajax belønner 18-årig dansker med ny aftale</td>\n",
       "      <td>Ajax har forlænget kontrakten med deres unge d...</td>\n",
       "      <td>2021-08-03 21:22</td>\n",
       "    </tr>\n",
       "    <tr>\n",
       "      <th>6</th>\n",
       "      <td>Overblik: Disse hold er videre i pokalen</td>\n",
       "      <td>Her får du overblikket over alle tirsdagens re...</td>\n",
       "      <td>2021-08-03 21:10</td>\n",
       "    </tr>\n",
       "    <tr>\n",
       "      <th>7</th>\n",
       "      <td>Fredericia er videre efter vildt pokal-drama</td>\n",
       "      <td>FC Fredericia er videre til anden runde i Sydb...</td>\n",
       "      <td>2021-08-03 20:59</td>\n",
       "    </tr>\n",
       "    <tr>\n",
       "      <th>8</th>\n",
       "      <td>Malmö-triumf: Rieks og AC dukkede Rangers</td>\n",
       "      <td>Søren Rieks scorede, og Anders Christiansen as...</td>\n",
       "      <td>2021-08-03 20:53</td>\n",
       "    </tr>\n",
       "    <tr>\n",
       "      <th>9</th>\n",
       "      <td>PL-klubber fortsætter knælen i ny sæson</td>\n",
       "      <td>De 20 Premier League-klubber er blevet enige o...</td>\n",
       "      <td>2021-08-03 20:28</td>\n",
       "    </tr>\n",
       "  </tbody>\n",
       "</table>\n",
       "</div>"
      ],
      "text/plain": [
       "                                          title  \\\n",
       "0    PSV-anfører vil ikke kalde FCM en walkover   \n",
       "1      Gerrard om overtidsmål: Et kæmpe øjeblik   \n",
       "2    Onuachu scorede forgæves i Shakhtar-triumf   \n",
       "3              PSV blæste decimerede FCM omkuld   \n",
       "4               SLUT: PSV - FCM minut for minut   \n",
       "5   Ajax belønner 18-årig dansker med ny aftale   \n",
       "6      Overblik: Disse hold er videre i pokalen   \n",
       "7  Fredericia er videre efter vildt pokal-drama   \n",
       "8     Malmö-triumf: Rieks og AC dukkede Rangers   \n",
       "9       PL-klubber fortsætter knælen i ny sæson   \n",
       "\n",
       "                                                lead              time  \n",
       "0  PSV-anfører Marco van Ginkel vil ikke kalde ka...  2021-08-03 22:30  \n",
       "1  Rangers-manager Steven Gerrard nød at se holde...  2021-08-03 22:06  \n",
       "2  Paul Onuachu bragte Genk foran, men det var ik...  2021-08-03 21:55  \n",
       "3  PSV satte et afbudsramt FC Midtjylland-hold på...  2021-08-03 21:52  \n",
       "4  FC Midtjylland er uden flere profiler, når hol...  2021-08-03 21:47  \n",
       "5  Ajax har forlænget kontrakten med deres unge d...  2021-08-03 21:22  \n",
       "6  Her får du overblikket over alle tirsdagens re...  2021-08-03 21:10  \n",
       "7  FC Fredericia er videre til anden runde i Sydb...  2021-08-03 20:59  \n",
       "8  Søren Rieks scorede, og Anders Christiansen as...  2021-08-03 20:53  \n",
       "9  De 20 Premier League-klubber er blevet enige o...  2021-08-03 20:28  "
      ]
     },
     "execution_count": 147,
     "metadata": {},
     "output_type": "execute_result"
    }
   ],
   "source": [
    "# saving df\n",
    "df.to_csv('df_bold.dk.csv')\n",
    "\n",
    "# loading df\n",
    "pd.read_csv('df_bold.dk.csv', index_col=0)"
   ]
  },
  {
   "cell_type": "markdown",
   "metadata": {
    "ExecuteTime": {
     "end_time": "2017-08-23T15:30:03.634114Z",
     "start_time": "2017-08-23T15:30:03.629294Z"
    }
   },
   "source": [
    "# Exercise Set 7: Web Scraping 2\n",
    "\n",
    "In this Exercise Set we shall develop our webscraping skills even further by practicing **parsing** and navigating html trees using `BeautifoulSoup` and furthermore train extracting information from raw text with no html tags to help, using regular expressions. \n",
    "\n",
    "But just as importantly you will get a chance to think about **data quality issues** and how to ensure reliability when curating your own webdata. "
   ]
  },
  {
   "cell_type": "markdown",
   "metadata": {},
   "source": [
    "## Exercise Section 7.1: Logging and data quality\n",
    "\n",
    "> **Ex. 7.1.1:** *`Why` is it important to log processes in your data collection?*\n",
    "\n"
   ]
  },
  {
   "cell_type": "code",
   "execution_count": 2,
   "metadata": {},
   "outputs": [],
   "source": [
    "# [Answer to Ex. 7.1.1 here]"
   ]
  },
  {
   "cell_type": "markdown",
   "metadata": {},
   "source": [
    "When designing your own data collection you are in charge of ensuring the quality. Many processes can go wrong, which if not spotted can lead to fundamental distortions of your dataset and in turn conclusions. "
   ]
  },
  {
   "cell_type": "markdown",
   "metadata": {},
   "source": [
    "> **Ex. 7.1.2:**\n",
    "*`How` does logging help with both ensuring and documenting the quality of your data?*\n"
   ]
  },
  {
   "cell_type": "code",
   "execution_count": 2,
   "metadata": {},
   "outputs": [],
   "source": [
    "# [Answer to Ex. 7.1.2 here]"
   ]
  },
  {
   "cell_type": "markdown",
   "metadata": {},
   "source": [
    "Having a log allow you to spot the potential anomalies in the website you are scraping. Examples could be errors and failed calls not randomly distributed accross time or subdomains. This would prompt you to investigate the issue further. Inspecting the simple distribution of lenght of the response, can also tell you about potential artifacts in your data collection that you should look into. Maybe there are more than one template important for your parsing, or there is a certain standard response given when data is missing.\n",
    "When presenting simple statistics about the data collection, it provides transparency and signals the commitment you have made as a data curator."
   ]
  },
  {
   "cell_type": "markdown",
   "metadata": {},
   "source": [
    "## Exercise Section 7.2: Parsing a Table from HTML using BeautifulSoup.\n",
    "\n",
    "In module_6 I showed you a neat little prepackaged function in pandas that did all the work. However today we should learn the mechanics of it. *(It is not just for educational purposes, sometimes the package will not do exactly as you want.)*\n",
    "\n",
    "We hit the Basketball stats page from yesterday again: https://www.basketball-reference.com/leagues/NBA_2018.html.\n"
   ]
  },
  {
   "cell_type": "markdown",
   "metadata": {},
   "source": [
    "> **Ex. 7.2.1:** Here we practice simply locating the table node of interest using the `find` method build into BeautifoulSoup. But first we have to fetch the HTML using the `requests` module. Parse the tree using `BeautifulSoup`. And then use the **>Inspector<** tool (* right click on the table < press inspect element *) in your browser to see how to locate the Eastern Conference table node - i.e. the *tag* name of the node, and maybe some defining *attributes*."
   ]
  },
  {
   "cell_type": "code",
   "execution_count": 1,
   "metadata": {},
   "outputs": [],
   "source": [
    "# [Answer to Ex. 7.2.1 here]"
   ]
  },
  {
   "cell_type": "markdown",
   "metadata": {},
   "source": [
    "You have located the table should now build a function that starts at a \"table node\" and parses the information, and outputs a pandas DataFrame. \n",
    "\n",
    "Inspect the element either within the notebook or through the **>Inspector<** tool and start to see how a table is written in html. Which tag names can be used to locate rows? How will you iterate through columns. Were is the header located?\n",
    "\n",
    "> **Ex. 7.2.2:** First you parse the header which can be found in the canonical tag name: thead. \n",
    "Next you use the `find_all` method to search for the tag, and iterate through each of the elements extracting the text, using the `.text` method builtin to the the node object. Store the header values in a list container. \n",
    "\n",
    "> **Ex. 7.2.3:** Next you locate the rows, using the canonical tag name: tbody. And from here you search for all rows tags. Fiugre out the tag name yourself, inspecting the tbody node in python or using the **Inspector**. \n",
    "\n",
    "> **Ex. 7.2.4:** Next run through all the rows and extract each value, similar to how you extracted the header. However here is a slight variation: Since each value node can have a different tag depending on whether it is a digit or a string, you should use the `.children` method instead of the `.find_all` - (or write compile a regex that matches both the td tag and the th tag.) \n",
    ">Once the value nodes of each row has been located using the `.children` method you should extract the value. Store the extracted rows as a list of lists: ```[[val1,val2,...valk],...]```"
   ]
  },
  {
   "cell_type": "code",
   "execution_count": 1,
   "metadata": {},
   "outputs": [],
   "source": [
    "# [Answer to Ex. 7.2.2-4 here]"
   ]
  },
  {
   "cell_type": "code",
   "execution_count": 5,
   "metadata": {},
   "outputs": [
    {
     "name": "stdout",
     "output_type": "stream",
     "text": [
      "['Eastern Conference', 'Wins', 'Losses', 'Win-Loss Percentage', 'Games Behind', 'Points Per Game', 'Opponent Points Per Game', 'Simple Rating System'] 8\n"
     ]
    }
   ],
   "source": [
    "import pandas as pd\n",
    "name = table_node.caption.text\n",
    "\n",
    "# parse header\n",
    "header = table_node.thead.find_all('th') # locate each column name using the `th` tag, which entail a string .\n",
    "\n",
    "# extract the label you want. brevity use .text, for a more informative get teh aria-label attribute\n",
    "header = [col['aria-label'] for col in header]\n",
    "\n",
    "print(header,len(header))\n",
    "\n",
    "# parse rows: the canonical tbody locates the data body.\n",
    "body = table_node.tbody\n",
    "\n",
    "# rows are found using the \"tr\" tag\n",
    "rows = body.find_all('tr')\n",
    "\n",
    "# each row value has different tags depending on their type (digit or string)\n",
    "# function to check what tag it is and either convert to float or not. \n",
    "import numpy as np\n",
    "def convert_value_type(value_node):\n",
    "    if value_node.name == 'th':\n",
    "        return value_node.text\n",
    "    else: # assume node is td:\n",
    "        try: \n",
    "            return float(value_node.text)\n",
    "        except:\n",
    "            return np.nan # assume there is no value if it fails. \n",
    "data = []\n",
    "for row_node in rows:\n",
    "    row = []\n",
    "    for child in row_node.children:\n",
    "        row.append(convert_value_type(child))\n",
    "    data.append(row)\n"
   ]
  },
  {
   "cell_type": "code",
   "execution_count": 6,
   "metadata": {},
   "outputs": [
    {
     "data": {
      "text/html": [
       "<div>\n",
       "<style scoped>\n",
       "    .dataframe tbody tr th:only-of-type {\n",
       "        vertical-align: middle;\n",
       "    }\n",
       "\n",
       "    .dataframe tbody tr th {\n",
       "        vertical-align: top;\n",
       "    }\n",
       "\n",
       "    .dataframe thead th {\n",
       "        text-align: right;\n",
       "    }\n",
       "</style>\n",
       "<table border=\"1\" class=\"dataframe\">\n",
       "  <thead>\n",
       "    <tr style=\"text-align: right;\">\n",
       "      <th></th>\n",
       "      <th>Eastern Conference</th>\n",
       "      <th>Wins</th>\n",
       "      <th>Losses</th>\n",
       "      <th>Win-Loss Percentage</th>\n",
       "      <th>Games Behind</th>\n",
       "      <th>Points Per Game</th>\n",
       "      <th>Opponent Points Per Game</th>\n",
       "      <th>Simple Rating System</th>\n",
       "    </tr>\n",
       "  </thead>\n",
       "  <tbody>\n",
       "    <tr>\n",
       "      <th>0</th>\n",
       "      <td>Toronto Raptors*</td>\n",
       "      <td>59.0</td>\n",
       "      <td>23.0</td>\n",
       "      <td>0.720</td>\n",
       "      <td>NaN</td>\n",
       "      <td>111.7</td>\n",
       "      <td>103.9</td>\n",
       "      <td>7.29</td>\n",
       "    </tr>\n",
       "    <tr>\n",
       "      <th>1</th>\n",
       "      <td>Boston Celtics*</td>\n",
       "      <td>55.0</td>\n",
       "      <td>27.0</td>\n",
       "      <td>0.671</td>\n",
       "      <td>4.0</td>\n",
       "      <td>104.0</td>\n",
       "      <td>100.4</td>\n",
       "      <td>3.23</td>\n",
       "    </tr>\n",
       "    <tr>\n",
       "      <th>2</th>\n",
       "      <td>Philadelphia 76ers*</td>\n",
       "      <td>52.0</td>\n",
       "      <td>30.0</td>\n",
       "      <td>0.634</td>\n",
       "      <td>7.0</td>\n",
       "      <td>109.8</td>\n",
       "      <td>105.3</td>\n",
       "      <td>4.30</td>\n",
       "    </tr>\n",
       "    <tr>\n",
       "      <th>3</th>\n",
       "      <td>Cleveland Cavaliers*</td>\n",
       "      <td>50.0</td>\n",
       "      <td>32.0</td>\n",
       "      <td>0.610</td>\n",
       "      <td>9.0</td>\n",
       "      <td>110.9</td>\n",
       "      <td>109.9</td>\n",
       "      <td>0.59</td>\n",
       "    </tr>\n",
       "    <tr>\n",
       "      <th>4</th>\n",
       "      <td>Indiana Pacers*</td>\n",
       "      <td>48.0</td>\n",
       "      <td>34.0</td>\n",
       "      <td>0.585</td>\n",
       "      <td>11.0</td>\n",
       "      <td>105.6</td>\n",
       "      <td>104.2</td>\n",
       "      <td>1.18</td>\n",
       "    </tr>\n",
       "    <tr>\n",
       "      <th>5</th>\n",
       "      <td>Miami Heat*</td>\n",
       "      <td>44.0</td>\n",
       "      <td>38.0</td>\n",
       "      <td>0.537</td>\n",
       "      <td>15.0</td>\n",
       "      <td>103.4</td>\n",
       "      <td>102.9</td>\n",
       "      <td>0.15</td>\n",
       "    </tr>\n",
       "    <tr>\n",
       "      <th>6</th>\n",
       "      <td>Milwaukee Bucks*</td>\n",
       "      <td>44.0</td>\n",
       "      <td>38.0</td>\n",
       "      <td>0.537</td>\n",
       "      <td>15.0</td>\n",
       "      <td>106.5</td>\n",
       "      <td>106.8</td>\n",
       "      <td>-0.45</td>\n",
       "    </tr>\n",
       "    <tr>\n",
       "      <th>7</th>\n",
       "      <td>Washington Wizards*</td>\n",
       "      <td>43.0</td>\n",
       "      <td>39.0</td>\n",
       "      <td>0.524</td>\n",
       "      <td>16.0</td>\n",
       "      <td>106.6</td>\n",
       "      <td>106.0</td>\n",
       "      <td>0.53</td>\n",
       "    </tr>\n",
       "    <tr>\n",
       "      <th>8</th>\n",
       "      <td>Detroit Pistons</td>\n",
       "      <td>39.0</td>\n",
       "      <td>43.0</td>\n",
       "      <td>0.476</td>\n",
       "      <td>20.0</td>\n",
       "      <td>103.8</td>\n",
       "      <td>103.9</td>\n",
       "      <td>-0.26</td>\n",
       "    </tr>\n",
       "    <tr>\n",
       "      <th>9</th>\n",
       "      <td>Charlotte Hornets</td>\n",
       "      <td>36.0</td>\n",
       "      <td>46.0</td>\n",
       "      <td>0.439</td>\n",
       "      <td>23.0</td>\n",
       "      <td>108.2</td>\n",
       "      <td>108.0</td>\n",
       "      <td>0.07</td>\n",
       "    </tr>\n",
       "    <tr>\n",
       "      <th>10</th>\n",
       "      <td>New York Knicks</td>\n",
       "      <td>29.0</td>\n",
       "      <td>53.0</td>\n",
       "      <td>0.354</td>\n",
       "      <td>30.0</td>\n",
       "      <td>104.5</td>\n",
       "      <td>108.0</td>\n",
       "      <td>-3.53</td>\n",
       "    </tr>\n",
       "    <tr>\n",
       "      <th>11</th>\n",
       "      <td>Brooklyn Nets</td>\n",
       "      <td>28.0</td>\n",
       "      <td>54.0</td>\n",
       "      <td>0.341</td>\n",
       "      <td>31.0</td>\n",
       "      <td>106.6</td>\n",
       "      <td>110.3</td>\n",
       "      <td>-3.67</td>\n",
       "    </tr>\n",
       "    <tr>\n",
       "      <th>12</th>\n",
       "      <td>Chicago Bulls</td>\n",
       "      <td>27.0</td>\n",
       "      <td>55.0</td>\n",
       "      <td>0.329</td>\n",
       "      <td>32.0</td>\n",
       "      <td>102.9</td>\n",
       "      <td>110.0</td>\n",
       "      <td>-6.84</td>\n",
       "    </tr>\n",
       "    <tr>\n",
       "      <th>13</th>\n",
       "      <td>Orlando Magic</td>\n",
       "      <td>25.0</td>\n",
       "      <td>57.0</td>\n",
       "      <td>0.305</td>\n",
       "      <td>34.0</td>\n",
       "      <td>103.4</td>\n",
       "      <td>108.2</td>\n",
       "      <td>-4.92</td>\n",
       "    </tr>\n",
       "    <tr>\n",
       "      <th>14</th>\n",
       "      <td>Atlanta Hawks</td>\n",
       "      <td>24.0</td>\n",
       "      <td>58.0</td>\n",
       "      <td>0.293</td>\n",
       "      <td>35.0</td>\n",
       "      <td>103.4</td>\n",
       "      <td>108.8</td>\n",
       "      <td>-5.30</td>\n",
       "    </tr>\n",
       "  </tbody>\n",
       "</table>\n",
       "</div>"
      ],
      "text/plain": [
       "      Eastern Conference  Wins  Losses  Win-Loss Percentage  Games Behind  \\\n",
       "0       Toronto Raptors*  59.0    23.0                0.720           NaN   \n",
       "1        Boston Celtics*  55.0    27.0                0.671           4.0   \n",
       "2    Philadelphia 76ers*  52.0    30.0                0.634           7.0   \n",
       "3   Cleveland Cavaliers*  50.0    32.0                0.610           9.0   \n",
       "4        Indiana Pacers*  48.0    34.0                0.585          11.0   \n",
       "5            Miami Heat*  44.0    38.0                0.537          15.0   \n",
       "6       Milwaukee Bucks*  44.0    38.0                0.537          15.0   \n",
       "7    Washington Wizards*  43.0    39.0                0.524          16.0   \n",
       "8        Detroit Pistons  39.0    43.0                0.476          20.0   \n",
       "9      Charlotte Hornets  36.0    46.0                0.439          23.0   \n",
       "10       New York Knicks  29.0    53.0                0.354          30.0   \n",
       "11         Brooklyn Nets  28.0    54.0                0.341          31.0   \n",
       "12         Chicago Bulls  27.0    55.0                0.329          32.0   \n",
       "13         Orlando Magic  25.0    57.0                0.305          34.0   \n",
       "14         Atlanta Hawks  24.0    58.0                0.293          35.0   \n",
       "\n",
       "    Points Per Game  Opponent Points Per Game  Simple Rating System  \n",
       "0             111.7                     103.9                  7.29  \n",
       "1             104.0                     100.4                  3.23  \n",
       "2             109.8                     105.3                  4.30  \n",
       "3             110.9                     109.9                  0.59  \n",
       "4             105.6                     104.2                  1.18  \n",
       "5             103.4                     102.9                  0.15  \n",
       "6             106.5                     106.8                 -0.45  \n",
       "7             106.6                     106.0                  0.53  \n",
       "8             103.8                     103.9                 -0.26  \n",
       "9             108.2                     108.0                  0.07  \n",
       "10            104.5                     108.0                 -3.53  \n",
       "11            106.6                     110.3                 -3.67  \n",
       "12            102.9                     110.0                 -6.84  \n",
       "13            103.4                     108.2                 -4.92  \n",
       "14            103.4                     108.8                 -5.30  "
      ]
     },
     "execution_count": 6,
     "metadata": {},
     "output_type": "execute_result"
    }
   ],
   "source": [
    "\n",
    "df = pd.DataFrame(data,columns=header)\n",
    "def parse_html_table(table_node):\n",
    "    # parse header\n",
    "    header = table_node.thead.find_all('th') # locate each column name using the `th` tag, which entail a string .\n",
    "    # extract the label you want. brevity use .text, for a more informative get teh aria-label attribute\n",
    "    header = [col['aria-label'] for col in header]\n",
    "    # parse rows: the canonical tbody locates the data body.\n",
    "    body = table_node.tbody\n",
    "    # rows are found using the \"tr\" tag\n",
    "    rows = body.find_all('tr')\n",
    "    # each row value has different tags depending on their type (digit or string)\n",
    "    # function to check what tag it is and either convert to float or not. \n",
    "    import numpy as np\n",
    "    def convert_value_type(value_node):\n",
    "        if value_node.name == 'th':\n",
    "            return value_node.text\n",
    "        else: # assume node is td:\n",
    "            try: \n",
    "                return float(value_node.text)\n",
    "            except:\n",
    "                return np.nan # assume there is no value if it fails. \n",
    "    data = []\n",
    "    for row_node in rows:\n",
    "        row = []\n",
    "        for child in row_node.children:\n",
    "            row.append(convert_value_type(child))\n",
    "        data.append(row)\n",
    "    df = pd.DataFrame(data,columns=header)\n",
    "    return df\n",
    "df = parse_html_table(table_node)\n",
    "df"
   ]
  },
  {
   "cell_type": "markdown",
   "metadata": {},
   "source": [
    "> **Ex. 7.2.5:** Now locate all tables from the page, using the `.find_all` method searching for the table tag name. Iterate through the table nodes and apply the function created for parsing html tables. Store each table in a dictionary using the table name as key. The name is found by accessing the id attribute of each table node, using dictionary-style syntax - i.e. `table_node['id']`."
   ]
  },
  {
   "cell_type": "code",
   "execution_count": 1,
   "metadata": {},
   "outputs": [],
   "source": [
    "# [Answer to Ex. 7.2.5 here]"
   ]
  },
  {
   "cell_type": "code",
   "execution_count": 8,
   "metadata": {},
   "outputs": [],
   "source": [
    "tables = soup.find_all('table') # locate all table nodes\n",
    "dfs = {}\n",
    "for i in range(3): #len(tables)\n",
    "    name = tables[i]['id'] # access the id attribute. \n",
    "    table = parse_html_table(tables[i]) # apply parse_table function\n",
    "    dfs[name] = table # store table in the dictionary"
   ]
  },
  {
   "cell_type": "markdown",
   "metadata": {},
   "source": [
    "> **Ex. 7.2.6. (extra) :** Compare your results to the pandas implementation [pd.read_html](https://pandas.pydata.org/pandas-docs/stable/reference/api/pandas.read_html.html)"
   ]
  },
  {
   "cell_type": "markdown",
   "metadata": {},
   "source": [
    "## Exercise Section 7.3: The European Research Counsel (optional)\n",
    "**NOTE** Exercise 7.3 is difficult and therefore also optional. I expect less than 10% of you being able to solve this one.\n",
    "\n",
    "Imagine we wanted to analyze whether the European funding behaviour was biased towards certain countries and gender. We might decide to scrape who has received funding from the ERC.\n",
    "https://erc.europa.eu/\n",
    "\n",
    "* First we figure find navigate the grant listings.\n",
    "* Next we figure out how to page these results. \n",
    "* And finally we want to grab the information."
   ]
  },
  {
   "cell_type": "markdown",
   "metadata": {},
   "source": [
    "### Data Storage and operating system interactions\n",
    "\n",
    "> **Ex. 7.3.1:** *Import the python library `os`. Write pyhon code in this jupyter notebook creating a new folder in your directory called \"erc_funding\". Inside your new folder create 3 subfolders called 'mapping', 'raw_data' and 'parsed_data'.*\n",
    "\n"
   ]
  },
  {
   "cell_type": "code",
   "execution_count": 1,
   "metadata": {},
   "outputs": [],
   "source": [
    "# [Answer to Ex. 7.3.1 here]"
   ]
  },
  {
   "cell_type": "code",
   "execution_count": 149,
   "metadata": {},
   "outputs": [],
   "source": [
    "# start by defining a Project name\n",
    "project = 'erc_funding'\n",
    "\n",
    "\n",
    "# os is a generel package for interacting with the system\n",
    "### among other things automate folder creation\n",
    "import os\n",
    "\n",
    "\n",
    "## create folder if it does not not exist\n",
    "if not os.path.isdir(project):\n",
    "    os.mkdir(project)\n",
    "\n",
    "subfolders = ['/mapping','/raw_data','/parsed_data']\n",
    "\n",
    "# creating subfolders\n",
    "for directory in subfolders: \n",
    "    if not os.path.isdir(directory):\n",
    "        os.mkdir(project+directory) \n"
   ]
  },
  {
   "cell_type": "markdown",
   "metadata": {},
   "source": [
    "### Mapping\n",
    "\n",
    "> **Ex. 7.3.2:** *Investigate [https://erc.europa.eu/projects-figures/erc-funded-projects/results?items_per_page=100&search_api_views_fulltext=&](https://erc.europa.eu/projects-figures/erc-funded-projects/results?items_per_page=100&search_api_views_fulltext=&). Figure out how many sites you need to loop thorugh. Save the response for each site using in `condecs` in your \"mapping\" subfolder. Use the `tqdm` to track your loop.\n",
    "Use the Snorre Ralund Connector class to log your activity.*\n",
    "\n"
   ]
  },
  {
   "cell_type": "code",
   "execution_count": 1,
   "metadata": {},
   "outputs": [],
   "source": [
    "# [Answer to Ex. 7.3.2 here]"
   ]
  },
  {
   "cell_type": "code",
   "execution_count": 1,
   "metadata": {},
   "outputs": [],
   "source": [
    "### Snorre Ralund Connector class\n",
    "\n",
    "import requests,os,time\n",
    "def ratelimit(dt):\n",
    "    \"A function that handles the rate of your calls.\"\n",
    "    time.sleep(dt) # sleep one second.\n",
    "\n",
    "class Connector():\n",
    "  def __init__(self,logfile,overwrite_log=False,connector_type='requests',session=False,path2selenium='',n_tries = 5,timeout=30,waiting_time=0.5):\n",
    "    \"\"\"This Class implements a method for reliable connection to the internet and monitoring. \n",
    "    It handles simple errors due to connection problems, and logs a range of information for basic quality assessments\n",
    "    \n",
    "    Keyword arguments:\n",
    "    logfile -- path to the logfile\n",
    "    overwrite_log -- bool, defining if logfile should be cleared (rarely the case). \n",
    "    connector_type -- use the 'requests' module or the 'selenium'. Will have different since the selenium webdriver does not have a similar response object when using the get method, and monitoring the behavior cannot be automated in the same way.\n",
    "    session -- requests.session object. For defining custom headers and proxies.\n",
    "    path2selenium -- str, sets the path to the geckodriver needed when using selenium.\n",
    "    n_tries -- int, defines the number of retries the *get* method will try to avoid random connection errors.\n",
    "    timeout -- int, seconds the get request will wait for the server to respond, again to avoid connection errors.\n",
    "    \"\"\"\n",
    "    \n",
    "    ## Initialization function defining parameters. \n",
    "    self.n_tries = n_tries # For avoiding triviel error e.g. connection errors, this defines how many times it will retry.\n",
    "    self.timeout = timeout # Defining the maximum time to wait for a server to response.\n",
    "    self.waiting_time = waiting_time # define simple rate_limit parameter.\n",
    "    ## not implemented here, if you use selenium.\n",
    "    if connector_type=='selenium':\n",
    "      assert path2selenium!='', \"You need to specify the path to you geckodriver if you want to use Selenium\"\n",
    "      from selenium import webdriver \n",
    "      ## HIN download the latest geckodriver here: https://github.com/mozilla/geckodriver/releases\n",
    "\n",
    "      assert os.path.isfile(path2selenium),'You need to insert a valid path2selenium the path to your geckodriver. You can download the latest geckodriver here: https://github.com/mozilla/geckodriver/releases'\n",
    "      self.browser = webdriver.Firefox(executable_path=path2selenium) # start the browser with a path to the geckodriver.\n",
    "\n",
    "    self.connector_type = connector_type # set the connector_type\n",
    "    \n",
    "    if session: # set the custom session\n",
    "      self.session = session\n",
    "    else:\n",
    "      self.session = requests.session()\n",
    "    self.logfilename = logfile # set the logfile path\n",
    "    ## define header for the logfile\n",
    "    header = ['id','project','connector_type','t', 'delta_t', 'url', 'redirect_url','response_size', 'response_code','success','error']\n",
    "    if os.path.isfile(logfile):        \n",
    "      if overwrite_log==True:\n",
    "        self.log = open(logfile,'w')\n",
    "        self.log.write(';'.join(header))\n",
    "      else:\n",
    "        self.log = open(logfile,'a')\n",
    "    else:\n",
    "      self.log = open(logfile,'w')\n",
    "      self.log.write(';'.join(header))\n",
    "    ## load log \n",
    "    with open(logfile,'r') as f: # open file\n",
    "        \n",
    "      l = f.read().split('\\n') # read and split file by newlines.\n",
    "      ## set id\n",
    "      if len(l)<=1:\n",
    "        self.id = 0\n",
    "      else:\n",
    "        self.id = int(l[-1][0])+1\n",
    "            \n",
    "  def get(self,url,project_name):\n",
    "    \"\"\"Method for connector reliably to the internet, with multiple tries and simple error handling, as well as default logging function.\n",
    "    Input url and the project name for the log (i.e. is it part of mapping the domain, or is it the part of the final stage in the data collection).\n",
    "    \n",
    "    Keyword arguments:\n",
    "    url -- str, url\n",
    "    project_name -- str, Name used for analyzing the log. Use case could be the 'Mapping of domain','Meta_data_collection','main data collection'. \n",
    "    \"\"\"\n",
    "     \n",
    "    project_name = project_name.replace(';','-') # make sure the default csv seperator is not in the project_name.\n",
    "    if self.connector_type=='requests': # Determine connector method.\n",
    "      for _ in range(self.n_tries): # for loop defining number of retries with the requests method.\n",
    "        ratelimit(self.waiting_time)\n",
    "        t = time.time()\n",
    "        try: # error handling \n",
    "          response = self.session.get(url,timeout = self.timeout) # make get call\n",
    "\n",
    "          err = '' # define python error variable as empty assumming success.\n",
    "          success = True # define success variable\n",
    "          redirect_url = response.url # log current url, after potential redirects \n",
    "          dt = t - time.time() # define delta-time waiting for the server and downloading content.\n",
    "          size = len(response.text) # define variable for size of html content of the response.\n",
    "          response_code = response.status_code # log status code.\n",
    "          ## log...\n",
    "          call_id = self.id # get current unique identifier for the call\n",
    "          self.id+=1 # increment call id\n",
    "          #['id','project_name','connector_type','t', 'delta_t', 'url', 'redirect_url','response_size', 'response_code','success','error']\n",
    "          row = [call_id,project_name,self.connector_type,t,dt,url,redirect_url,size,response_code,success,err] # define row to be written in the log.\n",
    "          self.log.write('\\n'+';'.join(map(str,row))) # write log.\n",
    "          self.log.flush()\n",
    "          return response,call_id # return response and unique identifier.\n",
    "\n",
    "        except Exception as e: # define error condition\n",
    "          err = str(e) # python error\n",
    "          response_code = '' # blank response code \n",
    "          success = False # call success = False\n",
    "          size = 0 # content is empty.\n",
    "          redirect_url = '' # redirect url empty \n",
    "          dt = t - time.time() # define delta t\n",
    "\n",
    "          ## log...\n",
    "          call_id = self.id # define unique identifier\n",
    "          self.id+=1 # increment call_id\n",
    "\n",
    "          row = [call_id,project_name,self.connector_type,t,dt,url,redirect_url,size,response_code,success,err] # define row\n",
    "          self.log.write('\\n'+';'.join(map(str,row))) # write row to log.\n",
    "          self.log.flush()\n",
    "    else:\n",
    "      t = time.time()\n",
    "      ratelimit(self.waiting_time)\n",
    "      self.browser.get(url) # use selenium get method\n",
    "      ## log\n",
    "      call_id = self.id # define unique identifier for the call. \n",
    "      self.id+=1 # increment the call_id\n",
    "      err = '' # blank error message\n",
    "      success = '' # success blank\n",
    "      redirect_url = self.browser.current_url # redirect url.\n",
    "      dt = t - time.time() # get time for get method ... NOTE: not necessarily the complete load time.\n",
    "      size = len(self.browser.page_source) # get size of content ... NOTE: not necessarily correct, since selenium works in the background, and could still be loading.\n",
    "      response_code = '' # empty response code.\n",
    "      row = [call_id,project_name,self.connector_type,t,dt,url,redirect_url,size,response_code,success,err] # define row \n",
    "      self.log.write('\\n'+';'.join(map(str,row))) # write row to log file.\n",
    "      self.log.flush()\n",
    "    # Using selenium it will not return a response object, instead you should call the browser object of the connector.\n",
    "    ## connector.browser.page_source will give you the html.\n",
    "      return None,call_id"
   ]
  },
  {
   "cell_type": "code",
   "execution_count": 154,
   "metadata": {
    "scrolled": true
   },
   "outputs": [
    {
     "name": "stderr",
     "output_type": "stream",
     "text": [
      "/Users/nicklasjohansen/opt/anaconda3/lib/python3.7/site-packages/ipykernel_launcher.py:8: TqdmDeprecationWarning: This function will be removed in tqdm==5.0.0\n",
      "Please use `tqdm.notebook.tqdm` instead of `tqdm.tqdm_notebook`\n",
      "  \n"
     ]
    },
    {
     "data": {
      "application/vnd.jupyter.widget-view+json": {
       "model_id": "e8470f70f05a447c9a21125897d38041",
       "version_major": 2,
       "version_minor": 0
      },
      "text/plain": [
       "  0%|          | 0/120 [00:00<?, ?it/s]"
      ]
     },
     "metadata": {},
     "output_type": "display_data"
    }
   ],
   "source": [
    "# mapping\n",
    "import codecs\n",
    "from tqdm import tqdm_notebook as tqdm # Module for tracking progress. conda install -c conda-forge tqdm\n",
    "connector = Connector('erc_log.csv',overwrite_log=True)\n",
    "\n",
    "base_url = 'https://erc.europa.eu/projects-figures/erc-funded-projects/results?items_per_page=100&search_api_views_fulltext=&'\n",
    "n_pages = 11979//100+1 # website says it has 11979 hits\n",
    "for i in tqdm(range(0,n_pages)):\n",
    "    # define the url\n",
    "    url = base_url+'page=%d'%i\n",
    "    # download the url\n",
    "    response,call_id = connector.get(url,'erc_mapping')\n",
    "        \n",
    "    ## dump the raw html response\n",
    "    file_path = project+'/mapping'+'/%d'%call_id\n",
    "    with codecs.open(file_path,'w','utf-8') as f:\n",
    "        f.write(response.text)"
   ]
  },
  {
   "cell_type": "markdown",
   "metadata": {},
   "source": [
    "### Parsing\n",
    "\n",
    "> **Ex. 7.3.3:** *Write a function that takes a filename (from our mapping subfolder) as and input and returns (in our parsed_data subfolder) a `pandas`dataframe of parsed information. Use `os` library to navigate your operating system (paths) and `condecs` library to read files inside your function. Last, concatenate all your dataframes into one dataframe you call \"df\" consisting of all parsed data.*"
   ]
  },
  {
   "cell_type": "code",
   "execution_count": 1,
   "metadata": {},
   "outputs": [],
   "source": [
    "# [Answer to Ex. 7.3.3 here]"
   ]
  },
  {
   "cell_type": "code",
   "execution_count": 207,
   "metadata": {},
   "outputs": [
    {
     "name": "stdout",
     "output_type": "stream",
     "text": [
      "120\n"
     ]
    }
   ],
   "source": [
    "## First we list the files\n",
    "import os\n",
    "path = project+'/mapping/'\n",
    "files = [path+filename for filename in os.listdir(path)]\n",
    "print(len(files))"
   ]
  },
  {
   "cell_type": "code",
   "execution_count": 208,
   "metadata": {},
   "outputs": [
    {
     "data": {
      "text/plain": [
       "'erc_funding/mapping/46'"
      ]
     },
     "execution_count": 208,
     "metadata": {},
     "output_type": "execute_result"
    }
   ],
   "source": [
    "## Start with a random page and create a parsing scheme\n",
    "import random \n",
    "filename = random.choice(files)\n",
    "filename"
   ]
  },
  {
   "cell_type": "code",
   "execution_count": 209,
   "metadata": {},
   "outputs": [],
   "source": [
    "## read the file\n",
    "with codecs.open(filename,'r','utf-8') as f:\n",
    "    html = f.read()"
   ]
  },
  {
   "cell_type": "code",
   "execution_count": 210,
   "metadata": {},
   "outputs": [],
   "source": [
    "## load the raw html into a Beautifulsoup object\n",
    "from bs4 import BeautifulSoup\n",
    "import bs4"
   ]
  },
  {
   "cell_type": "code",
   "execution_count": 211,
   "metadata": {},
   "outputs": [],
   "source": [
    "import pandas as pd\n",
    "def parse_erc(filename):\n",
    "    # read the file\n",
    "    with codecs.open(filename,'r','utf-8') as f:\n",
    "        html = f.read()\n",
    "    # turn raw string into a navigable html tree.\n",
    "    soup = BeautifulSoup(html,'lxml')\n",
    "    # find result list.\n",
    "    result_list = soup.find('div',{'class':'view-content'}) # find elements using tag name and class attribute\n",
    "    # loop through the \"children\" nodes of the result list node.\n",
    "    data = [] # define container for the parsed datapoints\n",
    "    for child in result_list.children:\n",
    "        if type(child)==bs4.NavigableString: #check if it is a string or a html node. \n",
    "            continue # If it is a string the next part of the loop will be skipped.\n",
    "            \n",
    "        # the \"child\" is now the node containing the ERC research project information.\n",
    "        ## structured as a pseudo table with rows containing a title and a value. \n",
    "        # define datapoint container\n",
    "        d = {}\n",
    "        # iterate through the content of the \"pseudo\" table.\n",
    "        for grand_child in child.children:\n",
    "            if type(grand_child)==bs4.NavigableString:\n",
    "                continue # same procedure\n",
    "            # use the span tag as separator between the column name and the value.\n",
    "            spans = grand_child.findAll('span')\n",
    "            # setup two different conditions.\n",
    "            if len(spans)==2:\n",
    "                key,value = spans\n",
    "            else: # special case.\n",
    "                key,value = [i for i in list(grand_child.find('span').children) if not type(i)==bs4.NavigableString]\n",
    "            # add the datapoint to the it to the data container `d`\n",
    "            d[key.text] = value.text # get the text of the two nodes using the object specific method .text        \n",
    "            # Using the strong tag to find Founding amount in the raw summary text.\n",
    "            ### The strong tag is a general heuristic.\n",
    "            strong = grand_child.findAll('strong') # using the findAll method to locate the text marked with the 'strong' tag \n",
    "            if len(strong)>0: # check if node contains the strong tag.\n",
    "                for node in strong: # if so iterate through it.\n",
    "                    key = node.text # get the text\n",
    "                    value = str(node.next.next) # get the value using the heuristic that \n",
    "    #                print(key,node.next,value)\n",
    "                    d[key] = value\n",
    "        # clean values for whitespace\n",
    "        d = {key:value.strip() for key,value in d.items()}\n",
    "        # add meta data for merging with the log\n",
    "        d['filename'] = filename\n",
    "        data.append(d) # append it to the data container.\n",
    "    # convert to dataframe\n",
    "    df = pd.DataFrame(data)\n",
    "    return df\n"
   ]
  },
  {
   "cell_type": "code",
   "execution_count": 212,
   "metadata": {},
   "outputs": [
    {
     "name": "stderr",
     "output_type": "stream",
     "text": [
      "/Users/nicklasjohansen/opt/anaconda3/lib/python3.7/site-packages/ipykernel_launcher.py:5: TqdmDeprecationWarning: This function will be removed in tqdm==5.0.0\n",
      "Please use `tqdm.notebook.tqdm` instead of `tqdm.tqdm_notebook`\n",
      "  \"\"\"\n"
     ]
    },
    {
     "data": {
      "application/vnd.jupyter.widget-view+json": {
       "model_id": "c37aa7dec9bc46bdbc95e5aff7eb65af",
       "version_major": 2,
       "version_minor": 0
      },
      "text/plain": [
       "  0%|          | 0/120 [00:00<?, ?it/s]"
      ]
     },
     "metadata": {},
     "output_type": "display_data"
    }
   ],
   "source": [
    "# run it on all pages\n",
    "# import tqdm for monitoring the progress.\n",
    "from tqdm import tqdm_notebook as tqdm\n",
    "dfs = []\n",
    "for filename in tqdm(files):\n",
    "    dfs.append(parse_erc(filename))\n",
    "df = pd.concat(dfs)"
   ]
  },
  {
   "cell_type": "markdown",
   "metadata": {},
   "source": [
    "### Reliability and Data Quality\n",
    "\n",
    "##### Inspect the data\n",
    "> **Ex. 7.3.4:** *Investigate your dataframe \"df\". Check for dublicates. Count NaN values. Create a `matplotlib` histrogram plot for every column of \"df\" illustrating the lenght of the string (x-axis) and row count( y-axis).*\n",
    "\n",
    "##### Do simple descriptives\n",
    "> **Ex. 7.3.5:** *Create a value_counts() for each of the three columns (Host Institution (HI), Researcher (PI) and Project acronym) in your \"df\". What can counting do for us in this exercise in terms of Reliability and Data Quality?*\n",
    "\n",
    "##### Visualize the Log\n",
    "> **Ex. 7.3.6:** *Load your \"erc_log.csv\". Convert the time column 't' to datetime. Use `matplotlib` to create three plots: (1) time it took to make the call, (2) the response size over time, and (3) the delta_t against the response_size .)*"
   ]
  },
  {
   "cell_type": "code",
   "execution_count": 1,
   "metadata": {},
   "outputs": [],
   "source": [
    "# [Answer to Ex. 7.3.4 here]"
   ]
  },
  {
   "cell_type": "code",
   "execution_count": 161,
   "metadata": {
    "collapsed": true
   },
   "outputs": [
    {
     "data": {
      "text/html": [
       "<div>\n",
       "<style scoped>\n",
       "    .dataframe tbody tr th:only-of-type {\n",
       "        vertical-align: middle;\n",
       "    }\n",
       "\n",
       "    .dataframe tbody tr th {\n",
       "        vertical-align: top;\n",
       "    }\n",
       "\n",
       "    .dataframe thead th {\n",
       "        text-align: right;\n",
       "    }\n",
       "</style>\n",
       "<table border=\"1\" class=\"dataframe\">\n",
       "  <thead>\n",
       "    <tr style=\"text-align: right;\">\n",
       "      <th></th>\n",
       "      <th>Project acronym</th>\n",
       "      <th>Project</th>\n",
       "      <th>Researcher (PI)</th>\n",
       "      <th>Host Institution (HI)</th>\n",
       "      <th>Country</th>\n",
       "      <th>Call Details</th>\n",
       "      <th>Summary</th>\n",
       "      <th>\\n    Summary\\n</th>\n",
       "      <th>Max ERC Funding</th>\n",
       "      <th>Duration</th>\n",
       "      <th>filename</th>\n",
       "    </tr>\n",
       "  </thead>\n",
       "  <tbody>\n",
       "    <tr>\n",
       "      <th>89</th>\n",
       "      <td>AllergenDetect</td>\n",
       "      <td>Comprehensive allergen detection using synthet...</td>\n",
       "      <td>Eran SEGAL</td>\n",
       "      <td>WEIZMANN INSTITUTE OF SCIENCE</td>\n",
       "      <td>Israel</td>\n",
       "      <td>Proof of Concept (PoC),  ERC-2018-PoC</td>\n",
       "      <td>Over the last 50 years, allergies have become ...</td>\n",
       "      <td>Over the last 50 years, allergies have become ...</td>\n",
       "      <td>150 000 €</td>\n",
       "      <td>Start date: 2019-05-01, End date: 2020-10-31</td>\n",
       "      <td>erc_funding/mapping/3</td>\n",
       "    </tr>\n",
       "    <tr>\n",
       "      <th>61</th>\n",
       "      <td>CoBCoM</td>\n",
       "      <td>Computational Brain Connectivity Mapping</td>\n",
       "      <td>Rachid DERICHE</td>\n",
       "      <td>INSTITUT NATIONAL DE RECHERCHE ENINFORMATIQUE ...</td>\n",
       "      <td>France</td>\n",
       "      <td>Advanced Grant (AdG), PE6, ERC-2015-AdG</td>\n",
       "      <td>One third of the burden of all the diseases in...</td>\n",
       "      <td>One third of the burden of all the diseases in...</td>\n",
       "      <td>2 469 123 €</td>\n",
       "      <td>Start date: 2016-09-01, End date: 2021-08-31</td>\n",
       "      <td>erc_funding/mapping/18</td>\n",
       "    </tr>\n",
       "    <tr>\n",
       "      <th>18</th>\n",
       "      <td>CHROMOREPAIR</td>\n",
       "      <td>Genome Maintenance in the Context of Chromatin</td>\n",
       "      <td>Oscar Fernandez-Capetillo Ruiz</td>\n",
       "      <td>FUNDACION CENTRO NACIONAL DE INVESTIGACIONES O...</td>\n",
       "      <td>Spain</td>\n",
       "      <td>Starting Grant (StG), LS1, ERC-2007-StG</td>\n",
       "      <td>With the availability of the essentially compl...</td>\n",
       "      <td>With the availability of the essentially compl...</td>\n",
       "      <td>948 426 €</td>\n",
       "      <td>Start date: 2008-12-01, End date: 2013-11-30</td>\n",
       "      <td>erc_funding/mapping/17</td>\n",
       "    </tr>\n",
       "    <tr>\n",
       "      <th>47</th>\n",
       "      <td>Neurolive</td>\n",
       "      <td>The Neurocognition of Liveness</td>\n",
       "      <td>Guido Alexander Orgs</td>\n",
       "      <td>GOLDSMITHS' COLLEGE</td>\n",
       "      <td>United Kingdom</td>\n",
       "      <td>Consolidator Grant (CoG), SH5, ERC-2019-COG</td>\n",
       "      <td>What makes live experiences special? Liveness ...</td>\n",
       "      <td>What makes live experiences special? Liveness ...</td>\n",
       "      <td>1 927 120 €</td>\n",
       "      <td>Start date: 2020-10-01, End date: 2025-09-30</td>\n",
       "      <td>erc_funding/mapping/75</td>\n",
       "    </tr>\n",
       "    <tr>\n",
       "      <th>21</th>\n",
       "      <td>ATMOGAIN</td>\n",
       "      <td>Atmospheric Gas-Aerosol Interface: \\nFrom Fund...</td>\n",
       "      <td>Ilona Anniina Riipinen</td>\n",
       "      <td>STOCKHOLMS UNIVERSITET</td>\n",
       "      <td>Sweden</td>\n",
       "      <td>Starting Grant (StG), PE10, ERC-2011-StG_20101014</td>\n",
       "      <td>Atmospheric aerosol particles are a major play...</td>\n",
       "      <td>Atmospheric aerosol particles are a major play...</td>\n",
       "      <td>1 498 099 €</td>\n",
       "      <td>Start date: 2011-09-01, End date: 2016-08-31</td>\n",
       "      <td>erc_funding/mapping/7</td>\n",
       "    </tr>\n",
       "    <tr>\n",
       "      <th>1</th>\n",
       "      <td>COMMOTION</td>\n",
       "      <td>Communication between Functional Molecules usi...</td>\n",
       "      <td>Nathan Mcclenaghan</td>\n",
       "      <td>CENTRE NATIONAL DE LA RECHERCHE SCIENTIFIQUE CNRS</td>\n",
       "      <td>France</td>\n",
       "      <td>Starting Grant (StG), PE4, ERC-2007-StG</td>\n",
       "      <td>The goal of COMMOTION is to establish a strate...</td>\n",
       "      <td>The goal of COMMOTION is to establish a strate...</td>\n",
       "      <td>1 250 000 €</td>\n",
       "      <td>Start date: 2008-09-01, End date: 2013-08-31</td>\n",
       "      <td>erc_funding/mapping/20</td>\n",
       "    </tr>\n",
       "    <tr>\n",
       "      <th>90</th>\n",
       "      <td>EPINuc</td>\n",
       "      <td>Single-Molecule Epigenetic Analysis of Plasma ...</td>\n",
       "      <td>Efrat SHEMA</td>\n",
       "      <td>WEIZMANN INSTITUTE OF SCIENCE</td>\n",
       "      <td>Israel</td>\n",
       "      <td>Proof of Concept (PoC),  ERC-2020-PoC</td>\n",
       "      <td>The analysis of cell-free DNA (cfDNA) in plasm...</td>\n",
       "      <td>The analysis of cell-free DNA (cfDNA) in plasm...</td>\n",
       "      <td>150 000 €</td>\n",
       "      <td>Start date: 2021-03-01, End date: 2022-08-31</td>\n",
       "      <td>erc_funding/mapping/34</td>\n",
       "    </tr>\n",
       "    <tr>\n",
       "      <th>84</th>\n",
       "      <td>T-CUBE</td>\n",
       "      <td>Theoretical Chemistry of Unbound Electrons</td>\n",
       "      <td>Thomas-Christian Jagau</td>\n",
       "      <td>KATHOLIEKE UNIVERSITEIT LEUVEN</td>\n",
       "      <td>Belgium</td>\n",
       "      <td>Starting Grant (StG), PE4, ERC-2019-STG</td>\n",
       "      <td>T-CUBE aims at the theoretical modeling of che...</td>\n",
       "      <td>T-CUBE aims at the theoretical modeling of che...</td>\n",
       "      <td>1 495 205 €</td>\n",
       "      <td>Start date: 2020-06-01, End date: 2025-05-31</td>\n",
       "      <td>erc_funding/mapping/108</td>\n",
       "    </tr>\n",
       "    <tr>\n",
       "      <th>64</th>\n",
       "      <td>CHIMO</td>\n",
       "      <td>Chiral Morphogenesis - Physical Mechanisms of ...</td>\n",
       "      <td>Stephan Grill</td>\n",
       "      <td>TECHNISCHE UNIVERSITAET DRESDEN</td>\n",
       "      <td>Germany</td>\n",
       "      <td>Advanced Grant (AdG), PE3, ERC-2016-ADG</td>\n",
       "      <td>The aim of this grant is to understand how cel...</td>\n",
       "      <td>The aim of this grant is to understand how cel...</td>\n",
       "      <td>2 500 000 €</td>\n",
       "      <td>Start date: 2018-01-01, End date: 2022-12-31</td>\n",
       "      <td>erc_funding/mapping/16</td>\n",
       "    </tr>\n",
       "    <tr>\n",
       "      <th>75</th>\n",
       "      <td>InnoSpace</td>\n",
       "      <td>Revolutionizing fibre-wireless communications ...</td>\n",
       "      <td>Ivana Gasulla Mestre</td>\n",
       "      <td>UNIVERSITAT POLITECNICA DE VALENCIA</td>\n",
       "      <td>Spain</td>\n",
       "      <td>Consolidator Grant (CoG), PE7, ERC-2016-COG</td>\n",
       "      <td>Next generation global telecommunication parad...</td>\n",
       "      <td>Next generation global telecommunication parad...</td>\n",
       "      <td>1 998 500 €</td>\n",
       "      <td>Start date: 2017-03-01, End date: 2022-02-28</td>\n",
       "      <td>erc_funding/mapping/54</td>\n",
       "    </tr>\n",
       "  </tbody>\n",
       "</table>\n",
       "</div>"
      ],
      "text/plain": [
       "   Project acronym                                            Project  \\\n",
       "89  AllergenDetect  Comprehensive allergen detection using synthet...   \n",
       "61          CoBCoM           Computational Brain Connectivity Mapping   \n",
       "18    CHROMOREPAIR     Genome Maintenance in the Context of Chromatin   \n",
       "47       Neurolive                     The Neurocognition of Liveness   \n",
       "21        ATMOGAIN  Atmospheric Gas-Aerosol Interface: \\nFrom Fund...   \n",
       "1        COMMOTION  Communication between Functional Molecules usi...   \n",
       "90          EPINuc  Single-Molecule Epigenetic Analysis of Plasma ...   \n",
       "84          T-CUBE         Theoretical Chemistry of Unbound Electrons   \n",
       "64           CHIMO  Chiral Morphogenesis - Physical Mechanisms of ...   \n",
       "75       InnoSpace  Revolutionizing fibre-wireless communications ...   \n",
       "\n",
       "                   Researcher (PI)  \\\n",
       "89                      Eran SEGAL   \n",
       "61                  Rachid DERICHE   \n",
       "18  Oscar Fernandez-Capetillo Ruiz   \n",
       "47            Guido Alexander Orgs   \n",
       "21          Ilona Anniina Riipinen   \n",
       "1               Nathan Mcclenaghan   \n",
       "90                     Efrat SHEMA   \n",
       "84          Thomas-Christian Jagau   \n",
       "64                   Stephan Grill   \n",
       "75            Ivana Gasulla Mestre   \n",
       "\n",
       "                                Host Institution (HI)         Country  \\\n",
       "89                      WEIZMANN INSTITUTE OF SCIENCE          Israel   \n",
       "61  INSTITUT NATIONAL DE RECHERCHE ENINFORMATIQUE ...          France   \n",
       "18  FUNDACION CENTRO NACIONAL DE INVESTIGACIONES O...           Spain   \n",
       "47                                GOLDSMITHS' COLLEGE  United Kingdom   \n",
       "21                             STOCKHOLMS UNIVERSITET          Sweden   \n",
       "1   CENTRE NATIONAL DE LA RECHERCHE SCIENTIFIQUE CNRS          France   \n",
       "90                      WEIZMANN INSTITUTE OF SCIENCE          Israel   \n",
       "84                     KATHOLIEKE UNIVERSITEIT LEUVEN         Belgium   \n",
       "64                    TECHNISCHE UNIVERSITAET DRESDEN         Germany   \n",
       "75                UNIVERSITAT POLITECNICA DE VALENCIA           Spain   \n",
       "\n",
       "                                         Call Details  \\\n",
       "89              Proof of Concept (PoC),  ERC-2018-PoC   \n",
       "61            Advanced Grant (AdG), PE6, ERC-2015-AdG   \n",
       "18            Starting Grant (StG), LS1, ERC-2007-StG   \n",
       "47        Consolidator Grant (CoG), SH5, ERC-2019-COG   \n",
       "21  Starting Grant (StG), PE10, ERC-2011-StG_20101014   \n",
       "1             Starting Grant (StG), PE4, ERC-2007-StG   \n",
       "90              Proof of Concept (PoC),  ERC-2020-PoC   \n",
       "84            Starting Grant (StG), PE4, ERC-2019-STG   \n",
       "64            Advanced Grant (AdG), PE3, ERC-2016-ADG   \n",
       "75        Consolidator Grant (CoG), PE7, ERC-2016-COG   \n",
       "\n",
       "                                              Summary  \\\n",
       "89  Over the last 50 years, allergies have become ...   \n",
       "61  One third of the burden of all the diseases in...   \n",
       "18  With the availability of the essentially compl...   \n",
       "47  What makes live experiences special? Liveness ...   \n",
       "21  Atmospheric aerosol particles are a major play...   \n",
       "1   The goal of COMMOTION is to establish a strate...   \n",
       "90  The analysis of cell-free DNA (cfDNA) in plasm...   \n",
       "84  T-CUBE aims at the theoretical modeling of che...   \n",
       "64  The aim of this grant is to understand how cel...   \n",
       "75  Next generation global telecommunication parad...   \n",
       "\n",
       "                                    \\n    Summary\\n   Max ERC Funding  \\\n",
       "89  Over the last 50 years, allergies have become ...       150 000 €   \n",
       "61  One third of the burden of all the diseases in...     2 469 123 €   \n",
       "18  With the availability of the essentially compl...       948 426 €   \n",
       "47  What makes live experiences special? Liveness ...     1 927 120 €   \n",
       "21  Atmospheric aerosol particles are a major play...     1 498 099 €   \n",
       "1   The goal of COMMOTION is to establish a strate...     1 250 000 €   \n",
       "90  The analysis of cell-free DNA (cfDNA) in plasm...       150 000 €   \n",
       "84  T-CUBE aims at the theoretical modeling of che...     1 495 205 €   \n",
       "64  The aim of this grant is to understand how cel...     2 500 000 €   \n",
       "75  Next generation global telecommunication parad...     1 998 500 €   \n",
       "\n",
       "                                        Duration                 filename  \n",
       "89  Start date: 2019-05-01, End date: 2020-10-31    erc_funding/mapping/3  \n",
       "61  Start date: 2016-09-01, End date: 2021-08-31   erc_funding/mapping/18  \n",
       "18  Start date: 2008-12-01, End date: 2013-11-30   erc_funding/mapping/17  \n",
       "47  Start date: 2020-10-01, End date: 2025-09-30   erc_funding/mapping/75  \n",
       "21  Start date: 2011-09-01, End date: 2016-08-31    erc_funding/mapping/7  \n",
       "1   Start date: 2008-09-01, End date: 2013-08-31   erc_funding/mapping/20  \n",
       "90  Start date: 2021-03-01, End date: 2022-08-31   erc_funding/mapping/34  \n",
       "84  Start date: 2020-06-01, End date: 2025-05-31  erc_funding/mapping/108  \n",
       "64  Start date: 2018-01-01, End date: 2022-12-31   erc_funding/mapping/16  \n",
       "75  Start date: 2017-03-01, End date: 2022-02-28   erc_funding/mapping/54  "
      ]
     },
     "execution_count": 161,
     "metadata": {},
     "output_type": "execute_result"
    }
   ],
   "source": [
    "## RANDOM INSPECTION\n",
    "df.sample(10)"
   ]
  },
  {
   "cell_type": "code",
   "execution_count": 162,
   "metadata": {},
   "outputs": [
    {
     "data": {
      "text/plain": [
       "(11979, 11979)"
      ]
     },
     "execution_count": 162,
     "metadata": {},
     "output_type": "execute_result"
    }
   ],
   "source": [
    "## ERC lists 10004\n",
    "len(df), len(df.drop_duplicates())"
   ]
  },
  {
   "cell_type": "code",
   "execution_count": 163,
   "metadata": {
    "collapsed": true
   },
   "outputs": [
    {
     "data": {
      "image/png": "[encoded data removed]",
      "text/plain": [
       "<Figure size 432x288 with 1 Axes>"
      ]
     },
     "metadata": {
      "needs_background": "light"
     },
     "output_type": "display_data"
    },
    {
     "data": {
      "image/png": "[encoded data removed]",
      "text/plain": [
       "<Figure size 432x288 with 1 Axes>"
      ]
     },
     "metadata": {
      "needs_background": "light"
     },
     "output_type": "display_data"
    },
    {
     "data": {
      "image/png": "[encoded data removed]",
      "text/plain": [
       "<Figure size 432x288 with 1 Axes>"
      ]
     },
     "metadata": {
      "needs_background": "light"
     },
     "output_type": "display_data"
    },
    {
     "data": {
      "image/png": "[encoded data removed]",
      "text/plain": [
       "<Figure size 432x288 with 1 Axes>"
      ]
     },
     "metadata": {
      "needs_background": "light"
     },
     "output_type": "display_data"
    },
    {
     "data": {
      "image/png": "[encoded data removed]",
      "text/plain": [
       "<Figure size 432x288 with 1 Axes>"
      ]
     },
     "metadata": {
      "needs_background": "light"
     },
     "output_type": "display_data"
    },
    {
     "data": {
      "image/png": "[encoded data removed]",
      "text/plain": [
       "<Figure size 432x288 with 1 Axes>"
      ]
     },
     "metadata": {
      "needs_background": "light"
     },
     "output_type": "display_data"
    },
    {
     "data": {
      "image/png": "[encoded data removed]",
      "text/plain": [
       "<Figure size 432x288 with 1 Axes>"
      ]
     },
     "metadata": {
      "needs_background": "light"
     },
     "output_type": "display_data"
    },
    {
     "data": {
      "image/png": "[encoded data removed]",
      "text/plain": [
       "<Figure size 432x288 with 1 Axes>"
      ]
     },
     "metadata": {
      "needs_background": "light"
     },
     "output_type": "display_data"
    },
    {
     "data": {
      "image/png": "[encoded data removed]",
      "text/plain": [
       "<Figure size 432x288 with 1 Axes>"
      ]
     },
     "metadata": {
      "needs_background": "light"
     },
     "output_type": "display_data"
    },
    {
     "data": {
      "image/png": "[encoded data removed]",
      "text/plain": [
       "<Figure size 432x288 with 1 Axes>"
      ]
     },
     "metadata": {
      "needs_background": "light"
     },
     "output_type": "display_data"
    },
    {
     "data": {
      "image/png": "[encoded data removed]",
      "text/plain": [
       "<Figure size 432x288 with 1 Axes>"
      ]
     },
     "metadata": {
      "needs_background": "light"
     },
     "output_type": "display_data"
    }
   ],
   "source": [
    "import matplotlib.pyplot as plt\n",
    "\n",
    "## Count Nan values\n",
    "df.apply(lambda x: x.isna().sum())\n",
    "\n",
    "## Plot length of the String\n",
    "for col in df.columns:\n",
    "    plt.figure()\n",
    "    plt.hist(df[col].fillna('').apply(len))\n",
    "    plt.title(col)\n"
   ]
  },
  {
   "cell_type": "code",
   "execution_count": 1,
   "metadata": {},
   "outputs": [],
   "source": [
    "# [Answer to Ex. 7.3.5 here]"
   ]
  },
  {
   "cell_type": "code",
   "execution_count": 164,
   "metadata": {
    "collapsed": true
   },
   "outputs": [
    {
     "data": {
      "text/plain": [
       "CENTRE NATIONAL DE LA RECHERCHE SCIENTIFIQUE CNRS                     616\n",
       "THE CHANCELLOR, MASTERS AND SCHOLARS OF THE UNIVERSITY OF OXFORD      301\n",
       "THE CHANCELLOR MASTERS AND SCHOLARS OF THE UNIVERSITY OF CAMBRIDGE    287\n",
       "MAX-PLANCK-GESELLSCHAFT ZUR FORDERUNG DER WISSENSCHAFTEN EV           275\n",
       "EIDGENOESSISCHE TECHNISCHE HOCHSCHULE ZUERICH                         223\n",
       "WEIZMANN INSTITUTE OF SCIENCE                                         219\n",
       "ECOLE POLYTECHNIQUE FEDERALE DE LAUSANNE                              193\n",
       "THE HEBREW UNIVERSITY OF JERUSALEM                                    158\n",
       "IMPERIAL COLLEGE OF SCIENCE TECHNOLOGY AND MEDICINE                   144\n",
       "THE UNIVERSITY OF EDINBURGH                                           134\n",
       "INSTITUT NATIONAL DE LA SANTE ET DE LA RECHERCHE MEDICALE             131\n",
       "LUDWIG-MAXIMILIANS-UNIVERSITAET MUENCHEN                              122\n",
       "TEL AVIV UNIVERSITY                                                   122\n",
       "UNIVERSITY COLLEGE LONDON                                             121\n",
       "KOBENHAVNS UNIVERSITET                                                119\n",
       "Name: Host Institution (HI), dtype: int64"
      ]
     },
     "execution_count": 164,
     "metadata": {},
     "output_type": "execute_result"
    }
   ],
   "source": [
    "# We might want to group/aggregate the insitution into departments, faculties, universities to count them right\n",
    "# We might want to generate new features such as city or country from this variable\n",
    "df['Host Institution (HI)'].value_counts().head(15)\n"
   ]
  },
  {
   "cell_type": "code",
   "execution_count": 165,
   "metadata": {
    "collapsed": true
   },
   "outputs": [
    {
     "data": {
      "text/plain": [
       "Christine Johanna Maria SELHUBER-UNKEL    4\n",
       "Susana Marcos Celestino                   4\n",
       "Jacob KLEIN                               4\n",
       "Martin O'HALLORAN                         4\n",
       "Klaus Pantel                              4\n",
       "Name: Researcher (PI), dtype: int64"
      ]
     },
     "execution_count": 165,
     "metadata": {},
     "output_type": "execute_result"
    }
   ],
   "source": [
    "# Researchers might have the same name\n",
    "df['Researcher (PI)'].value_counts().head()\n"
   ]
  },
  {
   "cell_type": "code",
   "execution_count": 166,
   "metadata": {
    "collapsed": true
   },
   "outputs": [
    {
     "data": {
      "text/plain": [
       "INTERACT    9\n",
       "SMART       6\n",
       "IMAGINE     6\n",
       "IMPACT      6\n",
       "ADAPT       5\n",
       "Name: Project acronym, dtype: int64"
      ]
     },
     "execution_count": 166,
     "metadata": {},
     "output_type": "execute_result"
    }
   ],
   "source": [
    "# Resaerchers tend to use clihe words as acronyms for their proejcts\n",
    "# We might need to investigate wheter some of them randomly use the same acronym for their project.\n",
    "df['Project acronym'].value_counts().head()"
   ]
  },
  {
   "cell_type": "code",
   "execution_count": 1,
   "metadata": {},
   "outputs": [],
   "source": [
    "# [Answer to Ex. 7.3.6 here]"
   ]
  },
  {
   "cell_type": "code",
   "execution_count": 213,
   "metadata": {},
   "outputs": [],
   "source": [
    "# Load the LOG\n",
    "import pandas as pd\n",
    "log_df = pd.read_csv('erc_log.csv',sep=';') # load the ;-separated log \n",
    "import matplotlib.pyplot as plt\n",
    "%matplotlib inline\n",
    "import seaborn as sns"
   ]
  },
  {
   "cell_type": "code",
   "execution_count": 214,
   "metadata": {},
   "outputs": [],
   "source": [
    "import datetime\n",
    "# Convert the time column 't' to datetime \n",
    "#log_df['dt'] = log_df.t.apply(datetime.datetime.fromtimestamp)\n",
    "log_df['dt'] = pd.to_datetime(log_df.t,unit='s')"
   ]
  },
  {
   "cell_type": "code",
   "execution_count": 215,
   "metadata": {},
   "outputs": [],
   "source": [
    "dt = log_df.dt.values[0]"
   ]
  },
  {
   "cell_type": "code",
   "execution_count": 216,
   "metadata": {
    "collapsed": true
   },
   "outputs": [
    {
     "data": {
      "image/png": "[encoded data removed]",
      "text/plain": [
       "<Figure size 1080x288 with 1 Axes>"
      ]
     },
     "metadata": {
      "needs_background": "light"
     },
     "output_type": "display_data"
    }
   ],
   "source": [
    "# Plot the time it took to make the call\n",
    "plt.figure(figsize=(15,4))\n",
    "plt.plot(log_df.dt,log_df.delta_t)\n",
    "plt.ylabel('Delta t')\n",
    "plt.xlabel('Scraping progress')\n",
    "import datetime"
   ]
  },
  {
   "cell_type": "code",
   "execution_count": 217,
   "metadata": {
    "collapsed": true
   },
   "outputs": [
    {
     "data": {
      "text/plain": [
       "[<matplotlib.lines.Line2D at 0x7f98fd302450>]"
      ]
     },
     "execution_count": 217,
     "metadata": {},
     "output_type": "execute_result"
    },
    {
     "data": {
      "image/png": "[encoded data removed]",
      "text/plain": [
       "<Figure size 1080x288 with 1 Axes>"
      ]
     },
     "metadata": {
      "needs_background": "light"
     },
     "output_type": "display_data"
    }
   ],
   "source": [
    "# Plot the response size over time.\n",
    "plt.figure(figsize=(15,4))\n",
    "plt.ylabel('Size of response')\n",
    "plt.xlabel('Scraping progress')\n",
    "plt.plot(log_df.dt,log_df.response_size)"
   ]
  },
  {
   "cell_type": "code",
   "execution_count": 218,
   "metadata": {
    "collapsed": true
   },
   "outputs": [
    {
     "data": {
      "text/plain": [
       "<matplotlib.collections.PathCollection at 0x7f98fb067450>"
      ]
     },
     "execution_count": 218,
     "metadata": {},
     "output_type": "execute_result"
    },
    {
     "data": {
      "image/png": "[encoded data removed]",
      "text/plain": [
       "<Figure size 432x288 with 1 Axes>"
      ]
     },
     "metadata": {
      "needs_background": "light"
     },
     "output_type": "display_data"
    }
   ],
   "source": [
    "# Plot the delta_t against the response_size. These two should correlate pretty well.\n",
    "plt.scatter(log_df.delta_t,log_df.response_size)"
   ]
  },
  {
   "cell_type": "code",
   "execution_count": 219,
   "metadata": {
    "collapsed": true
   },
   "outputs": [
    {
     "data": {
      "text/plain": [
       "dt_hour\n",
       "2021-08-03 20:00:00.000000000    True\n",
       "2021-08-03 20:00:00.000000008    True\n",
       "2021-08-03 20:00:00.000000016    True\n",
       "2021-08-03 20:00:00.000000024    True\n",
       "2021-08-03 20:00:00.000000032    True\n",
       "2021-08-03 20:00:00.000000040    True\n",
       "2021-08-03 20:00:00.000000048    True\n",
       "2021-08-03 20:00:00.000000056    True\n",
       "2021-08-03 20:00:00.000000064    True\n",
       "2021-08-03 20:00:00.000000080    True\n",
       "2021-08-03 20:00:00.000000088    True\n",
       "2021-08-03 20:00:00.000000096    True\n",
       "2021-08-03 20:00:00.000000104    True\n",
       "2021-08-03 20:00:00.000000112    True\n",
       "2021-08-03 20:00:00.000000120    True\n",
       "2021-08-03 20:00:00.000000128    True\n",
       "2021-08-03 20:00:00.000000208    True\n",
       "2021-08-03 20:00:00.000000776    True\n",
       "2021-08-03 20:00:00.000000792    True\n",
       "2021-08-03 20:00:00.000000808    True\n",
       "2021-08-03 20:00:00.000000840    True\n",
       "2021-08-03 20:00:00.000000872    True\n",
       "2021-08-03 20:00:00.000000880    True\n",
       "2021-08-03 20:00:00.000000888    True\n",
       "2021-08-03 20:00:00.000000896    True\n",
       "2021-08-03 20:00:00.000000904    True\n",
       "2021-08-03 20:00:00.000000912    True\n",
       "2021-08-03 20:00:00.000000920    True\n",
       "2021-08-03 20:00:00.000000928    True\n",
       "2021-08-03 20:00:00.000000936    True\n",
       "2021-08-03 20:00:00.000000944    True\n",
       "2021-08-03 20:00:00.000000960    True\n",
       "2021-08-03 20:00:00.000000968    True\n",
       "2021-08-03 20:00:00.000000976    True\n",
       "2021-08-03 20:00:00.000000992    True\n",
       "2021-08-03 21:00:00.000000000    True\n",
       "2021-08-03 21:00:00.000000008    True\n",
       "2021-08-03 21:00:00.000000016    True\n",
       "2021-08-03 21:00:00.000000032    True\n",
       "2021-08-03 21:00:00.000000064    True\n",
       "2021-08-03 21:00:00.000000072    True\n",
       "2021-08-03 21:00:00.000000096    True\n",
       "2021-08-03 21:00:00.000000104    True\n",
       "2021-08-03 21:00:00.000000112    True\n",
       "2021-08-03 21:00:00.000000120    True\n",
       "2021-08-03 21:00:00.000000872    True\n",
       "2021-08-03 21:00:00.000000880    True\n",
       "2021-08-03 21:00:00.000000888    True\n",
       "2021-08-03 21:00:00.000000904    True\n",
       "2021-08-03 21:00:00.000000912    True\n",
       "2021-08-03 21:00:00.000000928    True\n",
       "Name: success, dtype: bool"
      ]
     },
     "execution_count": 219,
     "metadata": {},
     "output_type": "execute_result"
    }
   ],
   "source": [
    "log_df.success.value_counts() ## Count errors\n",
    "## Groupby time\n",
    "# round the time for aggregation\n",
    "log_df['dt_minute'] = log_df.dt.apply(lambda x: x-datetime.timedelta(seconds=x.second,microseconds=x.microsecond))\n",
    "log_df['dt_hour'] = log_df.dt.apply(lambda x: x-datetime.timedelta(minutes=x.minute,seconds=x.second,microseconds=x.microsecond))\n",
    "log_df.groupby('dt_hour').success.mean()\n"
   ]
  },
  {
   "cell_type": "markdown",
   "metadata": {},
   "source": [
    "Congratulations on coming this far. You are now able to create your own dataset by scraping the majority of website on the internet. The last thing you will learn in this course is to deal with the most common challenge for scrapers: javascript. Stay tuned for module_8."
   ]
  }
 ],
 "metadata": {
  "kernelspec": {
   "display_name": "Python 3",
   "language": "python",
   "name": "python3"
  },
  "language_info": {
   "codemirror_mode": {
    "name": "ipython",
    "version": 3
   },
   "file_extension": ".py",
   "mimetype": "text/x-python",
   "name": "python",
   "nbconvert_exporter": "python",
   "pygments_lexer": "ipython3",
   "version": "3.8.5"
  },
  "latex_envs": {
   "bibliofile": "biblio.bib",
   "cite_by": "apalike",
   "current_citInitial": 1,
   "eqLabelWithNumbers": true,
   "eqNumInitial": 0
  },
  "toc": {
   "nav_menu": {
    "height": "328px",
    "width": "252px"
   },
   "navigate_menu": true,
   "number_sections": true,
   "sideBar": true,
   "threshold": 4,
   "toc_cell": false,
   "toc_section_display": "block",
   "toc_window_display": false
  }
 },
 "nbformat": 4,
 "nbformat_minor": 2
}
